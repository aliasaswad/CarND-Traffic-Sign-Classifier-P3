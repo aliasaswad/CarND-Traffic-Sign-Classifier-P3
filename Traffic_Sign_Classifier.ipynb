{
 "cells": [
  {
   "cell_type": "markdown",
   "metadata": {},
   "source": [
    "# Self-Driving Car Engineer Nanodegree\n",
    "\n",
    "## Deep Learning\n",
    "\n",
    "## Project: Build a Traffic Sign Recognition Classifier\n",
    "\n",
    "In this notebook, a template is provided for you to implement your functionality in stages, which is required to successfully complete this project. If additional code is required that cannot be included in the notebook, be sure that the Python code is successfully imported and included in your submission if necessary. \n",
    "\n",
    "> **Note**: Once you have completed all of the code implementations, you need to finalize your work by exporting the iPython Notebook as an HTML document. Before exporting the notebook to html, all of the code cells need to have been run so that reviewers can see the final implementation and output. You can then export the notebook by using the menu above and navigating to  \\n\",\n",
    "    \"**File -> Download as -> HTML (.html)**. Include the finished document along with this notebook as your submission. \n",
    "\n",
    "In addition to implementing code, there is a writeup to complete. The writeup should be completed in a separate file, which can be either a markdown file or a pdf document. There is a [write up template](https://github.com/udacity/CarND-Traffic-Sign-Classifier-Project/blob/master/writeup_template.md) that can be used to guide the writing process. Completing the code template and writeup template will cover all of the [rubric points](https://review.udacity.com/#!/rubrics/481/view) for this project.\n",
    "\n",
    "The [rubric](https://review.udacity.com/#!/rubrics/481/view) contains \"Stand Out Suggestions\" for enhancing the project beyond the minimum requirements. The stand out suggestions are optional. If you decide to pursue the \"stand out suggestions\", you can include the code in this Ipython notebook and also discuss the results in the writeup file.\n",
    "\n",
    "\n",
    ">**Note:** Code and Markdown cells can be executed using the **Shift + Enter** keyboard shortcut. In addition, Markdown cells can be edited by typically double-clicking the cell to enter edit mode."
   ]
  },
  {
   "cell_type": "markdown",
   "metadata": {},
   "source": [
    "---\n",
    "## Step 0: Load The Data"
   ]
  },
  {
   "cell_type": "code",
   "execution_count": 15,
   "metadata": {},
   "outputs": [],
   "source": [
    "import pickle\n",
    "import csv\n",
    "import matplotlib.pyplot as plt\n",
    "import numpy as np\n",
    "import random\n",
    "import cv2\n",
    "import tensorflow as tf\n",
    "from sklearn.utils import shuffle"
   ]
  },
  {
   "cell_type": "code",
   "execution_count": 14,
   "metadata": {},
   "outputs": [
    {
     "data": {
      "text/plain": [
       "{0: 'Speed limit (20km/h)',\n",
       " 1: 'Speed limit (30km/h)',\n",
       " 2: 'Speed limit (50km/h)',\n",
       " 3: 'Speed limit (60km/h)',\n",
       " 4: 'Speed limit (70km/h)',\n",
       " 5: 'Speed limit (80km/h)',\n",
       " 6: 'End of speed limit (80km/h)',\n",
       " 7: 'Speed limit (100km/h)',\n",
       " 8: 'Speed limit (120km/h)',\n",
       " 9: 'No passing',\n",
       " 10: 'No passing for vehicles over 3.5 metric tons',\n",
       " 11: 'Right-of-way at the next intersection',\n",
       " 12: 'Priority road',\n",
       " 13: 'Yield',\n",
       " 14: 'Stop',\n",
       " 15: 'No vehicles',\n",
       " 16: 'Vehicles over 3.5 metric tons prohibited',\n",
       " 17: 'No entry',\n",
       " 18: 'General caution',\n",
       " 19: 'Dangerous curve to the left',\n",
       " 20: 'Dangerous curve to the right',\n",
       " 21: 'Double curve',\n",
       " 22: 'Bumpy road',\n",
       " 23: 'Slippery road',\n",
       " 24: 'Road narrows on the right',\n",
       " 25: 'Road work',\n",
       " 26: 'Traffic signals',\n",
       " 27: 'Pedestrians',\n",
       " 28: 'Children crossing',\n",
       " 29: 'Bicycles crossing',\n",
       " 30: 'Beware of ice/snow',\n",
       " 31: 'Wild animals crossing',\n",
       " 32: 'End of all speed and passing limits',\n",
       " 33: 'Turn right ahead',\n",
       " 34: 'Turn left ahead',\n",
       " 35: 'Ahead only',\n",
       " 36: 'Go straight or right',\n",
       " 37: 'Go straight or left',\n",
       " 38: 'Keep right',\n",
       " 39: 'Keep left',\n",
       " 40: 'Roundabout mandatory',\n",
       " 41: 'End of no passing',\n",
       " 42: 'End of no passing by vehicles over 3.5 metric tons'}"
      ]
     },
     "execution_count": 14,
     "metadata": {},
     "output_type": "execute_result"
    }
   ],
   "source": [
    "# Load pickled data\n",
    "\n",
    "# import pickle\n",
    "# import csv\n",
    "\n",
    "# TODO: Fill this in based on where you saved the training and testing data\n",
    "\n",
    "training_file = './traffic-signs-data/train.p'\n",
    "validation_file = './traffic-signs-data/valid.p'\n",
    "testing_file = './traffic-signs-data/test.p'\n",
    "\n",
    "with open(training_file, mode='rb') as f:\n",
    "    train = pickle.load(f)\n",
    "with open(validation_file, mode='rb') as f:\n",
    "    valid = pickle.load(f)\n",
    "with open(testing_file, mode='rb') as f:\n",
    "    test = pickle.load(f)\n",
    "    \n",
    "X_train, y_train = train['features'], train['labels']\n",
    "X_valid, y_valid = valid['features'], valid['labels']\n",
    "X_test, y_test = test['features'], test['labels']\n",
    "\n",
    "#TODO may be I need the names for the the signs\n",
    "labels_to_names = {}\n",
    "with open('./signnames.csv') as file:\n",
    "    all_names = csv.reader(file)\n",
    "    for name in all_names:\n",
    "        if name[0] != 'ClassId' :\n",
    "            labels_to_names[int(name[0])] = name[1]\n",
    "#         print(name[0])\n",
    "#     print(len(labels_to_names))\n",
    "labels_to_names"
   ]
  },
  {
   "cell_type": "markdown",
   "metadata": {},
   "source": [
    "---\n",
    "\n",
    "## Step 1: Dataset Summary & Exploration\n",
    "\n",
    "The pickled data is a dictionary with 4 key/value pairs:\n",
    "\n",
    "- `'features'` is a 4D array containing raw pixel data of the traffic sign images, (num examples, width, height, channels).\n",
    "- `'labels'` is a 1D array containing the label/class id of the traffic sign. The file `signnames.csv` contains id -> name mappings for each id.\n",
    "- `'sizes'` is a list containing tuples, (width, height) representing the original width and height the image.\n",
    "- `'coords'` is a list containing tuples, (x1, y1, x2, y2) representing coordinates of a bounding box around the sign in the image. **THESE COORDINATES ASSUME THE ORIGINAL IMAGE. THE PICKLED DATA CONTAINS RESIZED VERSIONS (32 by 32) OF THESE IMAGES**\n",
    "\n",
    "Complete the basic data summary below. Use python, numpy and/or pandas methods to calculate the data summary rather than hard coding the results. For example, the [pandas shape method](http://pandas.pydata.org/pandas-docs/stable/generated/pandas.DataFrame.shape.html) might be useful for calculating some of the summary results. "
   ]
  },
  {
   "cell_type": "markdown",
   "metadata": {},
   "source": [
    "### Provide a Basic Summary of the Data Set Using Python, Numpy and/or Pandas"
   ]
  },
  {
   "cell_type": "code",
   "execution_count": 13,
   "metadata": {},
   "outputs": [
    {
     "name": "stdout",
     "output_type": "stream",
     "text": [
      "Number of training examples = 73494\n",
      "Number of validation examples = 4410\n",
      "Number of testing examples = 12630\n",
      "Image data shape = (32, 32, 3)\n",
      "Number of classes = 43\n"
     ]
    }
   ],
   "source": [
    "### Replace each question mark with the appropriate value. \n",
    "### Use python, pandas or numpy methods rather than hard coding the results\n",
    "\n",
    "# TODO: Number of training examples\n",
    "n_train = X_train.shape[0]\n",
    "\n",
    "# TODO: Number of validation examples\n",
    "n_validation = X_valid.shape[0]\n",
    "\n",
    "# TODO: Number of testing examples.\n",
    "n_test = X_test.shape[0]\n",
    "\n",
    "# TODO: What's the shape of an traffic sign image?\n",
    "image_shape = X_train[0].shape\n",
    "\n",
    "# TODO: How many unique classes/labels there are in the dataset.\n",
    "n_classes = len(set(list(y_train) + list(y_valid) + list(y_test)))\n",
    "\n",
    "print(\"Number of training examples =\", n_train)\n",
    "print(\"Number of validation examples =\", n_validation)\n",
    "print(\"Number of testing examples =\", n_test)\n",
    "print(\"Image data shape =\", image_shape)\n",
    "print(\"Number of classes =\", n_classes)"
   ]
  },
  {
   "cell_type": "markdown",
   "metadata": {},
   "source": [
    "### Include an exploratory visualization of the dataset"
   ]
  },
  {
   "cell_type": "markdown",
   "metadata": {},
   "source": [
    "Visualize the German Traffic Signs Dataset using the pickled file(s). This is open ended, suggestions include: plotting traffic sign images, plotting the count of each sign, etc. \n",
    "\n",
    "The [Matplotlib](http://matplotlib.org/) [examples](http://matplotlib.org/examples/index.html) and [gallery](http://matplotlib.org/gallery.html) pages are a great resource for doing visualizations in Python.\n",
    "\n",
    "**NOTE:** It's recommended you start with something simple first. If you wish to do more, come back to it after you've completed the rest of the sections. It can be interesting to look at the distribution of classes in the training, validation and test set. Is the distribution the same? Are there more examples of some classes than others?"
   ]
  },
  {
   "cell_type": "markdown",
   "metadata": {},
   "source": [
    "### Show Images"
   ]
  },
  {
   "cell_type": "code",
   "execution_count": 25,
   "metadata": {},
   "outputs": [
    {
     "data": {
      "image/png": "[encoded data removed]",
      "text/plain": [
       "<Figure size 1080x720 with 5 Axes>"
      ]
     },
     "metadata": {},
     "output_type": "display_data"
    }
   ],
   "source": [
    "### Data exploration visualization code goes here.\n",
    "### Feel free to use as many code cells as needed.\n",
    "# import random\n",
    "# import numpy as np\n",
    "# import matplotlib.pyplot as plt\n",
    "# Visualizations will be shown in the notebook.\n",
    "%matplotlib inline\n",
    "\n",
    "def display_images(images, labels, l_to_n, pred_list=[], rows=3, columns=5, cmap='', fig_size = (15,10)):\n",
    "    fig = plt.figure(figsize = fig_size);\n",
    "    for i in range(1, columns * rows + 1):\n",
    "        fig.add_subplot(rows, columns, i)       \n",
    "        image = images[i-1]\n",
    "        title =''\n",
    "        if len(pred_list) > 0 :\n",
    "            title = 'A:' + str(l_to_n[labels[i-1]])\n",
    "            title += '\\n/P:' + str(l_to_n[pred_list[i-1]])\n",
    "        else:\n",
    "            title = l_to_n[labels[i-1]]\n",
    "            if len(title) > 20:\n",
    "                title = title[:20] + '...'\n",
    "        plt.title(title)\n",
    "        plt.axis('off')\n",
    "        if cmap != '':\n",
    "            plt.imshow(image, cmap=cmap)\n",
    "        else:\n",
    "            plt.imshow(image)\n",
    "    plt.show()\n",
    "\n",
    "def show_images(images, labels, l_to_n, rows = 3, columns = 5, fig_size = (15,10)):\n",
    "    \"\"\"\n",
    "    Visualize a random images.\n",
    "    \"\"\"\n",
    "#     size_fig = fig_size\n",
    "    image_len = len(images)\n",
    "    assert(image_len == len(labels))\n",
    "#     image_width, image_height, _ = images[0].shape\n",
    "    fig, axes = plt.subplots(rows, columns, figsize= fig_size, subplot_kw={'xticks': [], 'yticks': []})\n",
    "   \n",
    "    indexes = list(random.randint(0, image_len) for r in range(columns * rows))\n",
    "    for ax, index in zip(axes.flat, indexes):\n",
    "        ax.imshow(images[index])\n",
    "        label = labels[index]\n",
    "        title = l_to_n[label]\n",
    "        if len(title) > 20:\n",
    "            title = title[:20] + '...'\n",
    "        ax.set_title(\"{0}\\n[{1}]\".format(title, label))\n",
    "#         ax.set_title(\"{0}\\n[{1}][{2}]\".format(name, label, index))\n",
    "show_images(X_train, y_train, labels_to_names, rows = 1, columns = 5)"
   ]
  },
  {
   "cell_type": "markdown",
   "metadata": {},
   "source": [
    "### Draw Labels Histogram"
   ]
  },
  {
   "cell_type": "code",
   "execution_count": 4,
   "metadata": {},
   "outputs": [
    {
     "name": "stderr",
     "output_type": "stream",
     "text": [
      "/home/lenovo/anaconda3/lib/python3.7/site-packages/ipykernel_launcher.py:8: MatplotlibDeprecationWarning: \n",
      "The 'normed' kwarg was deprecated in Matplotlib 2.1 and will be removed in 3.1. Use 'density' instead.\n",
      "  \n"
     ]
    },
    {
     "data": {
      "image/png": "[encoded data removed]",
      "text/plain": [
       "<Figure size 864x288 with 3 Axes>"
      ]
     },
     "metadata": {
      "needs_background": "light"
     },
     "output_type": "display_data"
    }
   ],
   "source": [
    "def histogram(labels, titles, labels_number):\n",
    "    \"\"\"\n",
    "    Plot the histogram of the all the labels.\n",
    "    \"\"\"\n",
    "    n_cols = len(labels)    \n",
    "    fig, axes = plt.subplots(ncols = n_cols, figsize = (12, 4))\n",
    "    for ax, label, title in zip(axes, labels, titles):        \n",
    "        _, bins, patches = ax.hist(label, labels_number, normed = 1)\n",
    "        ax.set_xlabel('No. of labels')\n",
    "        ax.set_ylabel('Counts for labels')\n",
    "        ax.set_title(title)\n",
    "        \n",
    "    fig.tight_layout()\n",
    "    plt.show()\n",
    "    \n",
    "histogram([y_train, y_valid, y_test], ['Train', 'Valid', 'Test'], n_classes)"
   ]
  },
  {
   "cell_type": "markdown",
   "metadata": {},
   "source": [
    "## Data Augmentation"
   ]
  },
  {
   "cell_type": "code",
   "execution_count": 5,
   "metadata": {},
   "outputs": [
    {
     "data": {
      "text/plain": [
       "Text(0.5, 1.0, 'Rotate')"
      ]
     },
     "execution_count": 5,
     "metadata": {},
     "output_type": "execute_result"
    },
    {
     "data": {
      "image/png": "[encoded data removed]",
      "text/plain": [
       "<Figure size 1080x936 with 4 Axes>"
      ]
     },
     "metadata": {
      "needs_background": "light"
     },
     "output_type": "display_data"
    }
   ],
   "source": [
    "# import cv2  \n",
    "\n",
    "def image_process(image, process = 0):\n",
    "    \"\"\"\n",
    "    Applying image processing like scale, transform, and translation.\n",
    "    We need it when the training data is complex and have a few samples.\n",
    "    \"\"\"\n",
    "    # Scale\n",
    "    if process == 1:\n",
    "        fx = 1.5; fy = 1.5\n",
    "        return cv2.resize(image,None,fx=fx, fy=fy, interpolation = cv2.INTER_CUBIC)[0:32, 0:32,:]\n",
    "    # Translation\n",
    "    if process == 0: \n",
    "        X = 5; Y = 5\n",
    "        P = np.float32([[1,0,Y],[0,1,X]])\n",
    "    else:\n",
    "        angle = 45\n",
    "        P = cv2.getRotationMatrix2D((16,16),angle,1)\n",
    "    \n",
    "    return cv2.warpAffine(image,P,(32,32))\n",
    "\n",
    "fig, axes = plt.subplots(ncols = 4, figsize = (15,13))\n",
    "index = random.randint(0, len(X_train))\n",
    "# index = 25\n",
    "axes[0].imshow(X_train[index])\n",
    "axes[0].set_title('Original')\n",
    "axes[1].imshow(image_process(X_train[index], 0))\n",
    "axes[1].set_title('Shift')\n",
    "axes[2].imshow(image_process(X_train[index], 1))\n",
    "axes[2].set_title('Scale')\n",
    "axes[3].imshow(image_process(X_train[index], 2))\n",
    "axes[3].set_title('Rotate')"
   ]
  },
  {
   "cell_type": "markdown",
   "metadata": {},
   "source": [
    "## Train augmented images"
   ]
  },
  {
   "cell_type": "code",
   "execution_count": 6,
   "metadata": {},
   "outputs": [
    {
     "name": "stderr",
     "output_type": "stream",
     "text": [
      "/home/lenovo/anaconda3/lib/python3.7/site-packages/ipykernel_launcher.py:2: VisibleDeprecationWarning: Passing `normed=True` on non-uniform bins has always been broken, and computes neither the probability density function nor the probability mass function. The result is only correct if the bins are uniform, when density=True will produce the same result anyway. The argument will be removed in a future version of numpy.\n",
      "  \n"
     ]
    },
    {
     "name": "stdout",
     "output_type": "stream",
     "text": [
      "Number of images 38695\n"
     ]
    },
    {
     "name": "stderr",
     "output_type": "stream",
     "text": [
      "/home/lenovo/anaconda3/lib/python3.7/site-packages/ipykernel_launcher.py:8: MatplotlibDeprecationWarning: \n",
      "The 'normed' kwarg was deprecated in Matplotlib 2.1 and will be removed in 3.1. Use 'density' instead.\n",
      "  \n"
     ]
    },
    {
     "data": {
      "image/png": "[encoded data removed]",
      "text/plain": [
       "<Figure size 864x288 with 2 Axes>"
      ]
     },
     "metadata": {
      "needs_background": "light"
     },
     "output_type": "display_data"
    }
   ],
   "source": [
    "def gen_images(images, input_labels):\n",
    "    hist, _ = np.histogram(input_labels, 43, normed=True)\n",
    "    select_label = []\n",
    "    for index, value in enumerate(hist):\n",
    "        if value < 0.02:\n",
    "            select_label.append(index)\n",
    "    xtrain = []\n",
    "    ytrain = []\n",
    "    for index, label in enumerate(input_labels):\n",
    "        if label in select_label:\n",
    "            for i in range(0,5):\n",
    "                type = random.randint(0, 3)\n",
    "                ytrain.append(label)\n",
    "                xtrain.append(image_process(images[index], type))\n",
    "    \n",
    "    return (np.array(xtrain), np.array(ytrain))\n",
    "\n",
    "X_train_new, y_train_new = gen_images(X_train, y_train)\n",
    "print('Number of images {}'.format(len(X_train_new)))\n",
    "added = np.concatenate((y_train, y_train_new), axis=0)\n",
    "histogram([y_train, added], ['Trained', 'Augmented'], n_classes)\n",
    "X_train = np.concatenate((X_train, X_train_new), axis=0)\n",
    "y_train = np.concatenate((y_train, y_train_new), axis=0)"
   ]
  },
  {
   "cell_type": "markdown",
   "metadata": {},
   "source": [
    "### ----\n",
    "\n",
    "## Step 2: Design and Test a Model Architecture\n",
    "\n",
    "Design and implement a deep learning model that learns to recognize traffic signs. Train and test your model on the [German Traffic Sign Dataset](http://benchmark.ini.rub.de/?section=gtsrb&subsection=dataset).\n",
    "\n",
    "The LeNet-5 implementation shown in the [classroom](https://classroom.udacity.com/nanodegrees/nd013/parts/fbf77062-5703-404e-b60c-95b78b2f3f9e/modules/6df7ae49-c61c-4bb2-a23e-6527e69209ec/lessons/601ae704-1035-4287-8b11-e2c2716217ad/concepts/d4aca031-508f-4e0b-b493-e7b706120f81) at the end of the CNN lesson is a solid starting point. You'll have to change the number of classes and possibly the preprocessing, but aside from that it's plug and play! \n",
    "\n",
    "With the LeNet-5 solution from the lecture, you should expect a validation set accuracy of about 0.89. To meet specifications, the validation set accuracy will need to be at least 0.93. It is possible to get an even higher accuracy, but 0.93 is the minimum for a successful project submission. \n",
    "\n",
    "There are various aspects to consider when thinking about this problem:\n",
    "\n",
    "- Neural network architecture (is the network over or underfitting?)\n",
    "- Play around preprocessing techniques (normalization, rgb to grayscale, etc)\n",
    "- Number of examples per label (some have more than others).\n",
    "- Generate fake data.\n",
    "\n",
    "Here is an example of a [published baseline model on this problem](http://yann.lecun.com/exdb/publis/pdf/sermanet-ijcnn-11.pdf). It's not required to be familiar with the approach used in the paper but, it's good practice to try to read papers like these."
   ]
  },
  {
   "cell_type": "markdown",
   "metadata": {},
   "source": [
    "### Pre-process the Data Set (normalization, grayscale, etc.)"
   ]
  },
  {
   "cell_type": "markdown",
   "metadata": {},
   "source": [
    "Minimally, the image data should be normalized so that the data has mean zero and equal variance. For image data, `(pixel - 128)/ 128` is a quick way to approximately normalize the data and can be used in this project. \n",
    "\n",
    "Other pre-processing steps are optional. You can try different techniques to see if it improves performance. \n",
    "\n",
    "Use the code cell (or multiple code cells, if necessary) to implement the first step of your project."
   ]
  },
  {
   "cell_type": "code",
   "execution_count": 7,
   "metadata": {},
   "outputs": [],
   "source": [
    "### Preprocess the data here. It is required to normalize the data. Other preprocessing steps could include \n",
    "### converting to grayscale, etc.\n",
    "### Feel free to use as many code cells as needed."
   ]
  },
  {
   "cell_type": "markdown",
   "metadata": {},
   "source": [
    "### Normalization"
   ]
  },
  {
   "cell_type": "code",
   "execution_count": 19,
   "metadata": {},
   "outputs": [],
   "source": [
    "# Simple normalization\n",
    "# import numpy as np\n",
    "# a = np.zeros((156816, 36, 53806), dtype='uint8')\n",
    "# a.nbytes\n",
    "\n",
    "# def get_normalize(input):    \n",
    "#     \"\"\"\n",
    "#     Normalize the input images\n",
    "#     \"\"\"\n",
    "#     output = np.zeros((len(input), 32, 32, 3), np.float64)\n",
    "#     for index, image in enumerate(input):\n",
    "#         output[index] = (image.astype(np.float64) - 128)/128\n",
    "#     return output\n",
    "    \n",
    "# X_train_normalized = get_normalize(X_train)\n",
    "# X_valid_normalized = get_normalize(X_valid)\n",
    "# X_test_normalized = get_normalize(X_test)\n",
    "\n",
    "# normalized_images = { \\\n",
    "#                      \"input\"      : X_train_normalized, \"labels\"      : y_train, \\\n",
    "#                      \"valid_input\": X_valid_normalized, \"valid_labels\": y_valid, \\\n",
    "#                      \"test_input\" : X_test_normalized, \"test_labels\"  : y_test\n",
    "#                    }\n",
    "\n",
    "def get_normalize(image):\n",
    "    return ((image - np.mean(image))/ np.std(image))"
   ]
  },
  {
   "cell_type": "markdown",
   "metadata": {},
   "source": [
    "### Grayscale"
   ]
  },
  {
   "cell_type": "code",
   "execution_count": 20,
   "metadata": {},
   "outputs": [],
   "source": [
    "def get_gray(image):\n",
    "    return cv2.cvtColor(image, cv2.COLOR_RGB2GRAY)"
   ]
  },
  {
   "cell_type": "code",
   "execution_count": 8,
   "metadata": {},
   "outputs": [],
   "source": [
    "# import numpy as np\n",
    "# from sklearn.utils import shuffle\n",
    "\n",
    "# def to_gray(images):\n",
    "#     output = np.zeros((len(images), 32, 32, 3), np.float64)\n",
    "#     for index, img in enumerate(images):\n",
    "#         g_image = cv2.cvtColor(cv2.cvtColor(img, cv2.COLOR_RGB2GRAY), cv2.COLOR_GRAY2RGB)\n",
    "#         output[index] = (g_image.astype(np.float64) - 128)/128\n",
    "#     return output\n",
    "\n",
    "\n",
    "\n",
    "# X_train, y_train = shuffle(X_train, y_train)\n",
    "# X_train = to_gray(X_train)\n",
    "# X_valid = to_gray(X_valid)\n",
    "# X_test = to_gray(X_test)\n",
    "\n",
    "# plt.imshow(X_train[1])"
   ]
  },
  {
   "cell_type": "markdown",
   "metadata": {},
   "source": [
    "### Equalize histogram"
   ]
  },
  {
   "cell_type": "code",
   "execution_count": 21,
   "metadata": {},
   "outputs": [],
   "source": [
    "def get_equalize(image):\n",
    "    return cv2.equalizeHist(image)"
   ]
  },
  {
   "cell_type": "code",
   "execution_count": 16,
   "metadata": {},
   "outputs": [],
   "source": [
    "# def get_equalize(input):\n",
    "#     \"\"\"\n",
    "#     Equalize the input images\n",
    "#     \"\"\"\n",
    "#     output = input.copy()\n",
    "#     for index, image in enumerate(output):\n",
    "#         image_yuv = cv2.cvtColor(image, cv2.COLOR_BGR2YUV)\n",
    "#         image_yuv[:,:,0] = cv2.equalizeHist(image_yuv[:,:,0])\n",
    "#         output[index] = cv2.cvtColor(image_yuv, cv2.COLOR_YUV2BGR)\n",
    "    \n",
    "#     return output\n",
    "\n",
    "# X_train_equalized = get_normalize(get_equalize(X_train))\n",
    "# X_valid_equalized = get_normalize(get_equalize(X_valid))\n",
    "# X_test_equalized   = get_normalize(get_equalize(X_test))\n",
    "\n",
    "# equalized_images = { \\\n",
    "#                      \"input\"      : X_train_equalized, \"labels\"      : y_train, \\\n",
    "#                      \"valid_input\": X_valid_equalized, \"valid_labels\": y_valid, \\\n",
    "#                      \"test_input\" : X_test_equalized, \"test_labels\"  : y_test\n",
    "#                    }"
   ]
  },
  {
   "cell_type": "code",
   "execution_count": 22,
   "metadata": {},
   "outputs": [],
   "source": [
    "def pre_process(images, labels):\n",
    "    gray_images = list(map(get_gray, images))\n",
    "#     eq_imgs = list(map(clahe, gray_imgs))\n",
    "    normalized_images = list(map(get_normalize, gray_images))\n",
    "    x_images, x_labels = shuffle(normalized_images, labels)\n",
    "    return x_images, x_labels\n",
    "\n",
    "X_train_pre_processed, y_train_pre_processed = pre_process(X_train, y_train)"
   ]
  },
  {
   "cell_type": "code",
   "execution_count": 26,
   "metadata": {},
   "outputs": [
    {
     "data": {
      "image/png": "[encoded data removed]",
      "text/plain": [
       "<Figure size 1080x720 with 15 Axes>"
      ]
     },
     "metadata": {
      "needs_background": "light"
     },
     "output_type": "display_data"
    }
   ],
   "source": [
    "image_list = list()\n",
    "label_list = list()\n",
    "for i in range(20):\n",
    "    indx = random.randint(0, len(X_train_pre_processed))\n",
    "    image_list.append(X_train_pre_processed[indx])\n",
    "    label_list.append(y_train_pre_processed[indx])\n",
    "\n",
    "# display_images(images, labels, l_to_n, pred_list=[], rows=3, columns=5, cmap='', fig_size = (15,10)):\n",
    "# show_images(image_list, label_list, labels_to_names, rows = 1, columns = 5)\n",
    "display_images(image_list, label_list, labels_to_names, cmap='gray')"
   ]
  },
  {
   "cell_type": "code",
   "execution_count": null,
   "metadata": {},
   "outputs": [],
   "source": []
  },
  {
   "cell_type": "markdown",
   "metadata": {},
   "source": [
    "### Model Architecture"
   ]
  },
  {
   "cell_type": "code",
   "execution_count": 10,
   "metadata": {},
   "outputs": [
    {
     "ename": "ModuleNotFoundError",
     "evalue": "No module named 'tensorflow.contrib'",
     "output_type": "error",
     "traceback": [
      "\u001b[0;31m---------------------------------------------------------------------------\u001b[0m",
      "\u001b[0;31mModuleNotFoundError\u001b[0m                       Traceback (most recent call last)",
      "\u001b[0;32m<ipython-input-10-a74927196980>\u001b[0m in \u001b[0;36m<module>\u001b[0;34m\u001b[0m\n\u001b[1;32m      2\u001b[0m \u001b[0;31m### Feel free to use as many code cells as needed.\u001b[0m\u001b[0;34m\u001b[0m\u001b[0;34m\u001b[0m\u001b[0;34m\u001b[0m\u001b[0m\n\u001b[1;32m      3\u001b[0m \u001b[0;32mimport\u001b[0m \u001b[0mtensorflow\u001b[0m \u001b[0;32mas\u001b[0m \u001b[0mtf\u001b[0m\u001b[0;34m\u001b[0m\u001b[0;34m\u001b[0m\u001b[0m\n\u001b[0;32m----> 4\u001b[0;31m \u001b[0;32mfrom\u001b[0m \u001b[0mtensorflow\u001b[0m\u001b[0;34m.\u001b[0m\u001b[0mcontrib\u001b[0m\u001b[0;34m.\u001b[0m\u001b[0mlayers\u001b[0m \u001b[0;32mimport\u001b[0m \u001b[0mflatten\u001b[0m\u001b[0;34m\u001b[0m\u001b[0;34m\u001b[0m\u001b[0m\n\u001b[0m\u001b[1;32m      5\u001b[0m \u001b[0;32mfrom\u001b[0m \u001b[0msklearn\u001b[0m\u001b[0;34m.\u001b[0m\u001b[0mutils\u001b[0m \u001b[0;32mimport\u001b[0m \u001b[0mshuffle\u001b[0m\u001b[0;34m\u001b[0m\u001b[0;34m\u001b[0m\u001b[0m\n",
      "\u001b[0;31mModuleNotFoundError\u001b[0m: No module named 'tensorflow.contrib'"
     ]
    }
   ],
   "source": [
    "### Define your architecture here.\n",
    "### Feel free to use as many code cells as needed.\n",
    "import tensorflow as tf\n",
    "from tensorflow.contrib.layers import flatten\n",
    "from sklearn.utils import shuffle"
   ]
  },
  {
   "cell_type": "markdown",
   "metadata": {},
   "source": [
    "### Train, Validate and Test the Model"
   ]
  },
  {
   "cell_type": "markdown",
   "metadata": {},
   "source": [
    "A validation set can be used to assess how well the model is performing. A low accuracy on the training and validation\n",
    "sets imply underfitting. A high accuracy on the training set but low accuracy on the validation set implies overfitting."
   ]
  },
  {
   "cell_type": "code",
   "execution_count": 1,
   "metadata": {
    "collapsed": true
   },
   "outputs": [],
   "source": [
    "### Train your model here.\n",
    "### Calculate and report the accuracy on the training and validation set.\n",
    "### Once a final model architecture is selected, \n",
    "### the accuracy on the test set should be calculated and reported as well.\n",
    "### Feel free to use as many code cells as needed.\n",
    "def train(name, net, inputs, batchSize, epochs, rate = 0.001, modelName = \"\", xChannels=3):\n",
    "    \"\"\"\n",
    "    `name` identify the NN used.\n",
    "    \n",
    "    Trains the nn created by `net` function. Using `input` dict as:\n",
    "    {\n",
    "      \"input\"         : IMAGES_TO_TRAIN,\n",
    "      \"labels\"        : LABELS_TO_TRAIN,\n",
    "      \"valid_input\"   : IMAGES_TO_VALIDATE,\n",
    "      \"valid_labels\"  : LABELS_TO_VALIDATE,\n",
    "      \"test_input\"    : IMAGES_TO_TEST,\n",
    "      \"test_labels\"   : LABELS_TO_TEST\n",
    "    }\n",
    "    \n",
    "    unsing a `batchSize`, `epochs`, and learning rate `rate`.\n",
    "    If the parameter `modelName` is provided, the model will be saved with that name.\n",
    "    \n",
    "    Returs:\n",
    "    {\n",
    "      \"validation\": VALIDATION_ACCURACY[EPOCH],\n",
    "      \"test\" : TEST_ACCURACY\n",
    "    }\n",
    "    \"\"\"\n",
    "    input = inputs[\"input\"]\n",
    "    labels = inputs[\"labels\"]\n",
    "    valid_input = inputs[\"valid_input\"]\n",
    "    valid_labels = inputs[\"valid_labels\"]\n",
    "    test_input = inputs[\"test_input\"]\n",
    "    test_labels = inputs[\"test_labels\"]\n",
    "    \n",
    "    # Placeholders \n",
    "    x = tf.placeholder(tf.float32, (None, 32, 32, xChannels))\n",
    "    y = tf.placeholder(tf.int32, (None))\n",
    "    one_hot_y = tf.one_hot(y, 43)\n",
    "    \n",
    "    # Create net graph\n",
    "    logits = net(x)\n",
    "    \n",
    "    cross_entropy = tf.nn.softmax_cross_entropy_with_logits(labels=one_hot_y, logits=logits)\n",
    "    loss_operation = tf.reduce_mean(cross_entropy)\n",
    "    optimizer = tf.train.AdamOptimizer(learning_rate = rate)\n",
    "    training_operation = optimizer.minimize(loss_operation)\n",
    "    correct_prediction = tf.equal(tf.argmax(logits, 1), tf.argmax(one_hot_y, 1))\n",
    "    accuracy_operation = tf.reduce_mean(tf.cast(correct_prediction, tf.float32))\n",
    "    saver = tf.train.Saver()\n",
    "    \n",
    "    def evaluate(X_data, y_data, batchSize, accuracyOperator):\n",
    "        num_examples = len(X_data)\n",
    "        total_accuracy = 0\n",
    "        sess = tf.get_default_session()\n",
    "        for offset in range(0, num_examples, batchSize):\n",
    "            batch_x, batch_y = X_data[offset:offset+batchSize], y_data[offset:offset+batchSize]\n",
    "            accuracy = sess.run(accuracyOperator, feed_dict={x: batch_x, y: batch_y})\n",
    "            total_accuracy += (accuracy * len(batch_x))\n",
    "        return total_accuracy / num_examples\n",
    "    \n",
    "    epoch_validation = np.zeros((epochs), dtype=np.float64)\n",
    "    test_accuracy = 0.0\n",
    "    with tf.Session() as sess:\n",
    "        sess.run(tf.global_variables_initializer())\n",
    "        num_examples = len(input)\n",
    "        print('Training - ' + name)\n",
    "        for i in range(epochs):\n",
    "            input, labels = shuffle(input, labels)\n",
    "            for offset in range(0, num_examples, batchSize):\n",
    "                end = offset + batchSize\n",
    "                batch_x, batch_y = input[offset:end], labels[offset:end]\n",
    "                sess.run(training_operation, feed_dict={x: batch_x, y: batch_y})\n",
    "            \n",
    "            # Accuracy calculation\n",
    "            validation_accuracy = evaluate(valid_input, valid_labels, batchSize, accuracy_operation)\n",
    "            epoch_validation[i] = validation_accuracy\n",
    "\n",
    "        if modelName != \"\":\n",
    "            saver.save(sess, './models/' + modelName)\n",
    "        \n",
    "        test_accuracy = evaluate(test_input, test_labels, batchSize, accuracy_operation)\n",
    "\n",
    "    return { \\\n",
    "             \"name\" : name, \\\n",
    "             \"validation\": epoch_validation, \\\n",
    "             \"test\" : test_accuracy\n",
    "           }\n",
    "\n",
    "def visualizeTraining(trainings):\n",
    "    \"\"\"\n",
    "    Visualize the `trainings`. It expect each training to be a dict with the following values:\n",
    "    {\n",
    "      \"name\": TRAINING_NAME,\n",
    "      \"validation\": VALIDATION_ACCURACY_DATA,\n",
    "      \"test\": TEST_ACCURACY\n",
    "    }\n",
    "    \"\"\"\n",
    "    cols = len(trainings)\n",
    "    fig, axes = plt.subplots(ncols=cols, figsize=(5*cols, 4))\n",
    "    for ax, training in zip(axes.flat, trainings):\n",
    "        y = training['validation']\n",
    "        ax.plot(range(1, len(y) +1), y)\n",
    "        ax.set_xlabel('Epochs')\n",
    "        ax.set_ylabel('Accuracy')\n",
    "        ax.set_title('{} Test: {:.3f}'.format(training['name'], training['test']))\n",
    "        ax.grid(True, zorder=5)"
   ]
  },
  {
   "cell_type": "markdown",
   "metadata": {},
   "source": [
    "---\n",
    "\n",
    "## Step 3: Test a Model on New Images\n",
    "\n",
    "To give yourself more insight into how your model is working, download at least five pictures of German traffic signs from the web and use your model to predict the traffic sign type.\n",
    "\n",
    "You may find `signnames.csv` useful as it contains mappings from the class id (integer) to the actual sign name."
   ]
  },
  {
   "cell_type": "markdown",
   "metadata": {},
   "source": [
    "### Load and Output the Images"
   ]
  },
  {
   "cell_type": "code",
   "execution_count": null,
   "metadata": {
    "collapsed": true
   },
   "outputs": [],
   "source": [
    "### Load the images and plot them here.\n",
    "### Feel free to use as many code cells as needed."
   ]
  },
  {
   "cell_type": "markdown",
   "metadata": {},
   "source": [
    "### Predict the Sign Type for Each Image"
   ]
  },
  {
   "cell_type": "code",
   "execution_count": 3,
   "metadata": {
    "collapsed": true
   },
   "outputs": [],
   "source": [
    "### Run the predictions here and use the model to output the prediction for each image.\n",
    "### Make sure to pre-process the images with the same pre-processing pipeline used earlier.\n",
    "### Feel free to use as many code cells as needed."
   ]
  },
  {
   "cell_type": "markdown",
   "metadata": {},
   "source": [
    "### Analyze Performance"
   ]
  },
  {
   "cell_type": "code",
   "execution_count": 4,
   "metadata": {
    "collapsed": true
   },
   "outputs": [],
   "source": [
    "### Calculate the accuracy for these 5 new images. \n",
    "### For example, if the model predicted 1 out of 5 signs correctly, it's 20% accurate on these new images."
   ]
  },
  {
   "cell_type": "markdown",
   "metadata": {},
   "source": [
    "### Output Top 5 Softmax Probabilities For Each Image Found on the Web"
   ]
  },
  {
   "cell_type": "markdown",
   "metadata": {},
   "source": [
    "For each of the new images, print out the model's softmax probabilities to show the **certainty** of the model's predictions (limit the output to the top 5 probabilities for each image). [`tf.nn.top_k`](https://www.tensorflow.org/versions/r0.12/api_docs/python/nn.html#top_k) could prove helpful here. \n",
    "\n",
    "The example below demonstrates how tf.nn.top_k can be used to find the top k predictions for each image.\n",
    "\n",
    "`tf.nn.top_k` will return the values and indices (class ids) of the top k predictions. So if k=3, for each sign, it'll return the 3 largest probabilities (out of a possible 43) and the correspoding class ids.\n",
    "\n",
    "Take this numpy array as an example. The values in the array represent predictions. The array contains softmax probabilities for five candidate images with six possible classes. `tf.nn.top_k` is used to choose the three classes with the highest probability:\n",
    "\n",
    "```\n",
    "# (5, 6) array\n",
    "a = np.array([[ 0.24879643,  0.07032244,  0.12641572,  0.34763842,  0.07893497,\n",
    "         0.12789202],\n",
    "       [ 0.28086119,  0.27569815,  0.08594638,  0.0178669 ,  0.18063401,\n",
    "         0.15899337],\n",
    "       [ 0.26076848,  0.23664738,  0.08020603,  0.07001922,  0.1134371 ,\n",
    "         0.23892179],\n",
    "       [ 0.11943333,  0.29198961,  0.02605103,  0.26234032,  0.1351348 ,\n",
    "         0.16505091],\n",
    "       [ 0.09561176,  0.34396535,  0.0643941 ,  0.16240774,  0.24206137,\n",
    "         0.09155967]])\n",
    "```\n",
    "\n",
    "Running it through `sess.run(tf.nn.top_k(tf.constant(a), k=3))` produces:\n",
    "\n",
    "```\n",
    "TopKV2(values=array([[ 0.34763842,  0.24879643,  0.12789202],\n",
    "       [ 0.28086119,  0.27569815,  0.18063401],\n",
    "       [ 0.26076848,  0.23892179,  0.23664738],\n",
    "       [ 0.29198961,  0.26234032,  0.16505091],\n",
    "       [ 0.34396535,  0.24206137,  0.16240774]]), indices=array([[3, 0, 5],\n",
    "       [0, 1, 4],\n",
    "       [0, 5, 1],\n",
    "       [1, 3, 5],\n",
    "       [1, 4, 3]], dtype=int32))\n",
    "```\n",
    "\n",
    "Looking just at the first row we get `[ 0.34763842,  0.24879643,  0.12789202]`, you can confirm these are the 3 largest probabilities in `a`. You'll also notice `[3, 0, 5]` are the corresponding indices."
   ]
  },
  {
   "cell_type": "code",
   "execution_count": 3,
   "metadata": {
    "collapsed": true
   },
   "outputs": [],
   "source": [
    "### Print out the top five softmax probabilities for the predictions on the German traffic sign images found on the web. \n",
    "### Feel free to use as many code cells as needed."
   ]
  },
  {
   "cell_type": "markdown",
   "metadata": {},
   "source": [
    "### Project Writeup\n",
    "\n",
    "Once you have completed the code implementation, document your results in a project writeup using this [template](https://github.com/udacity/CarND-Traffic-Sign-Classifier-Project/blob/master/writeup_template.md) as a guide. The writeup can be in a markdown or pdf file. "
   ]
  },
  {
   "cell_type": "markdown",
   "metadata": {},
   "source": [
    "> **Note**: Once you have completed all of the code implementations and successfully answered each question above, you may finalize your work by exporting the iPython Notebook as an HTML document. You can do this by using the menu above and navigating to  \\n\",\n",
    "    \"**File -> Download as -> HTML (.html)**. Include the finished document along with this notebook as your submission."
   ]
  },
  {
   "cell_type": "markdown",
   "metadata": {},
   "source": [
    "---\n",
    "\n",
    "## Step 4 (Optional): Visualize the Neural Network's State with Test Images\n",
    "\n",
    " This Section is not required to complete but acts as an additional excersise for understaning the output of a neural network's weights. While neural networks can be a great learning device they are often referred to as a black box. We can understand what the weights of a neural network look like better by plotting their feature maps. After successfully training your neural network you can see what it's feature maps look like by plotting the output of the network's weight layers in response to a test stimuli image. From these plotted feature maps, it's possible to see what characteristics of an image the network finds interesting. For a sign, maybe the inner network feature maps react with high activation to the sign's boundary outline or to the contrast in the sign's painted symbol.\n",
    "\n",
    " Provided for you below is the function code that allows you to get the visualization output of any tensorflow weight layer you want. The inputs to the function should be a stimuli image, one used during training or a new one you provided, and then the tensorflow variable name that represents the layer's state during the training process, for instance if you wanted to see what the [LeNet lab's](https://classroom.udacity.com/nanodegrees/nd013/parts/fbf77062-5703-404e-b60c-95b78b2f3f9e/modules/6df7ae49-c61c-4bb2-a23e-6527e69209ec/lessons/601ae704-1035-4287-8b11-e2c2716217ad/concepts/d4aca031-508f-4e0b-b493-e7b706120f81) feature maps looked like for it's second convolutional layer you could enter conv2 as the tf_activation variable.\n",
    "\n",
    "For an example of what feature map outputs look like, check out NVIDIA's results in their paper [End-to-End Deep Learning for Self-Driving Cars](https://devblogs.nvidia.com/parallelforall/deep-learning-self-driving-cars/) in the section Visualization of internal CNN State. NVIDIA was able to show that their network's inner weights had high activations to road boundary lines by comparing feature maps from an image with a clear path to one without. Try experimenting with a similar test to show that your trained network's weights are looking for interesting features, whether it's looking at differences in feature maps from images with or without a sign, or even what feature maps look like in a trained network vs a completely untrained one on the same sign image.\n",
    "\n",
    "<figure>\n",
    " <img src=\"visualize_cnn.png\" width=\"380\" alt=\"Combined Image\" />\n",
    " <figcaption>\n",
    " <p></p> \n",
    " <p style=\"text-align: center;\"> Your output should look something like this (above)</p> \n",
    " </figcaption>\n",
    "</figure>\n",
    " <p></p> \n"
   ]
  },
  {
   "cell_type": "code",
   "execution_count": null,
   "metadata": {
    "collapsed": true
   },
   "outputs": [],
   "source": [
    "### Visualize your network's feature maps here.\n",
    "### Feel free to use as many code cells as needed.\n",
    "\n",
    "# image_input: the test image being fed into the network to produce the feature maps\n",
    "# tf_activation: should be a tf variable name used during your training procedure that represents the calculated state of a specific weight layer\n",
    "# activation_min/max: can be used to view the activation contrast in more detail, by default matplot sets min and max to the actual min and max values of the output\n",
    "# plt_num: used to plot out multiple different weight feature map sets on the same block, just extend the plt number for each new feature map entry\n",
    "\n",
    "def outputFeatureMap(image_input, tf_activation, activation_min=-1, activation_max=-1 ,plt_num=1):\n",
    "    # Here make sure to preprocess your image_input in a way your network expects\n",
    "    # with size, normalization, ect if needed\n",
    "    # image_input =\n",
    "    # Note: x should be the same name as your network's tensorflow data placeholder variable\n",
    "    # If you get an error tf_activation is not defined it may be having trouble accessing the variable from inside a function\n",
    "    activation = tf_activation.eval(session=sess,feed_dict={x : image_input})\n",
    "    featuremaps = activation.shape[3]\n",
    "    plt.figure(plt_num, figsize=(15,15))\n",
    "    for featuremap in range(featuremaps):\n",
    "        plt.subplot(6,8, featuremap+1) # sets the number of feature maps to show on each row and column\n",
    "        plt.title('FeatureMap ' + str(featuremap)) # displays the feature map number\n",
    "        if activation_min != -1 & activation_max != -1:\n",
    "            plt.imshow(activation[0,:,:, featuremap], interpolation=\"nearest\", vmin =activation_min, vmax=activation_max, cmap=\"gray\")\n",
    "        elif activation_max != -1:\n",
    "            plt.imshow(activation[0,:,:, featuremap], interpolation=\"nearest\", vmax=activation_max, cmap=\"gray\")\n",
    "        elif activation_min !=-1:\n",
    "            plt.imshow(activation[0,:,:, featuremap], interpolation=\"nearest\", vmin=activation_min, cmap=\"gray\")\n",
    "        else:\n",
    "            plt.imshow(activation[0,:,:, featuremap], interpolation=\"nearest\", cmap=\"gray\")"
   ]
  }
 ],
 "metadata": {
  "anaconda-cloud": {},
  "kernelspec": {
   "display_name": "Python 3",
   "language": "python",
   "name": "python3"
  },
  "language_info": {
   "codemirror_mode": {
    "name": "ipython",
    "version": 3
   },
   "file_extension": ".py",
   "mimetype": "text/x-python",
   "name": "python",
   "nbconvert_exporter": "python",
   "pygments_lexer": "ipython3",
   "version": "3.7.6"
  }
 },
 "nbformat": 4,
 "nbformat_minor": 1
}
