{
 "cells": [
  {
   "cell_type": "markdown",
   "metadata": {},
   "source": [
    "# Self-Driving Car Engineer Nanodegree\n",
    "\n",
    "## Deep Learning\n",
    "\n",
    "## Project: Build a Traffic Sign Recognition Classifier\n",
    "\n"
   ]
  },
  {
   "cell_type": "markdown",
   "metadata": {},
   "source": [
    "---\n",
    "## Step 0: Load The Data"
   ]
  },
  {
   "cell_type": "code",
   "execution_count": 12,
   "metadata": {},
   "outputs": [],
   "source": [
    "import pickle\n",
    "import csv\n",
    "import matplotlib.pyplot as plt\n",
    "import numpy as np\n",
    "import random\n",
    "import cv2\n",
    "import tensorflow as tf\n",
    "from sklearn.utils import shuffle"
   ]
  },
  {
   "cell_type": "code",
   "execution_count": 13,
   "metadata": {},
   "outputs": [
    {
     "data": {
      "text/plain": [
       "{0: 'Speed limit (20km/h)',\n",
       " 1: 'Speed limit (30km/h)',\n",
       " 2: 'Speed limit (50km/h)',\n",
       " 3: 'Speed limit (60km/h)',\n",
       " 4: 'Speed limit (70km/h)',\n",
       " 5: 'Speed limit (80km/h)',\n",
       " 6: 'End of speed limit (80km/h)',\n",
       " 7: 'Speed limit (100km/h)',\n",
       " 8: 'Speed limit (120km/h)',\n",
       " 9: 'No passing',\n",
       " 10: 'No passing for vehicles over 3.5 metric tons',\n",
       " 11: 'Right-of-way at the next intersection',\n",
       " 12: 'Priority road',\n",
       " 13: 'Yield',\n",
       " 14: 'Stop',\n",
       " 15: 'No vehicles',\n",
       " 16: 'Vehicles over 3.5 metric tons prohibited',\n",
       " 17: 'No entry',\n",
       " 18: 'General caution',\n",
       " 19: 'Dangerous curve to the left',\n",
       " 20: 'Dangerous curve to the right',\n",
       " 21: 'Double curve',\n",
       " 22: 'Bumpy road',\n",
       " 23: 'Slippery road',\n",
       " 24: 'Road narrows on the right',\n",
       " 25: 'Road work',\n",
       " 26: 'Traffic signals',\n",
       " 27: 'Pedestrians',\n",
       " 28: 'Children crossing',\n",
       " 29: 'Bicycles crossing',\n",
       " 30: 'Beware of ice/snow',\n",
       " 31: 'Wild animals crossing',\n",
       " 32: 'End of all speed and passing limits',\n",
       " 33: 'Turn right ahead',\n",
       " 34: 'Turn left ahead',\n",
       " 35: 'Ahead only',\n",
       " 36: 'Go straight or right',\n",
       " 37: 'Go straight or left',\n",
       " 38: 'Keep right',\n",
       " 39: 'Keep left',\n",
       " 40: 'Roundabout mandatory',\n",
       " 41: 'End of no passing',\n",
       " 42: 'End of no passing by vehicles over 3.5 metric tons'}"
      ]
     },
     "execution_count": 13,
     "metadata": {},
     "output_type": "execute_result"
    }
   ],
   "source": [
    "# Load pickled data\n",
    "\n",
    "# import pickle\n",
    "# import csv\n",
    "\n",
    "# TODO: Fill this in based on where you saved the training and testing data\n",
    "\n",
    "training_file = './traffic-signs-data/train.p'\n",
    "validation_file = './traffic-signs-data/valid.p'\n",
    "testing_file = './traffic-signs-data/test.p'\n",
    "\n",
    "with open(training_file, mode='rb') as f:\n",
    "    train = pickle.load(f)\n",
    "with open(validation_file, mode='rb') as f:\n",
    "    valid = pickle.load(f)\n",
    "with open(testing_file, mode='rb') as f:\n",
    "    test = pickle.load(f)\n",
    "    \n",
    "X_train, y_train = train['features'], train['labels']\n",
    "X_valid, y_valid = valid['features'], valid['labels']\n",
    "X_test, y_test = test['features'], test['labels']\n",
    "\n",
    "#TODO may be I need the names for the the signs\n",
    "labels_to_names = {}\n",
    "with open('./signnames.csv') as file:\n",
    "    all_names = csv.reader(file)\n",
    "    for name in all_names:\n",
    "        if name[0] != 'ClassId' :\n",
    "            labels_to_names[int(name[0])] = name[1]\n",
    "#         print(name[0])\n",
    "#     print(len(labels_to_names))\n",
    "labels_to_names"
   ]
  },
  {
   "cell_type": "markdown",
   "metadata": {},
   "source": [
    "---\n",
    "\n",
    "## Step 1: Dataset Summary & Exploration\n",
    "\n",
    "The pickled data is a dictionary with 4 key/value pairs:\n",
    "\n",
    "- `'features'` is a 4D array containing raw pixel data of the traffic sign images, (num examples, width, height, channels).\n",
    "- `'labels'` is a 1D array containing the label/class id of the traffic sign. The file `signnames.csv` contains id -> name mappings for each id.\n",
    "- `'sizes'` is a list containing tuples, (width, height) representing the original width and height the image.\n",
    "- `'coords'` is a list containing tuples, (x1, y1, x2, y2) representing coordinates of a bounding box around the sign in the image. **THESE COORDINATES ASSUME THE ORIGINAL IMAGE. THE PICKLED DATA CONTAINS RESIZED VERSIONS (32 by 32) OF THESE IMAGES**\n",
    "\n",
    "Python, numpy and/or pandas methods used to calculate the data summary rather than hard coding the results. For example, the [pandas shape method](http://pandas.pydata.org/pandas-docs/stable/generated/pandas.DataFrame.shape.html) might be useful for calculating some of the summary results. "
   ]
  },
  {
   "cell_type": "markdown",
   "metadata": {},
   "source": [
    "### Provide a Basic Summary of the Data Set Using Python, Numpy and/or Pandas"
   ]
  },
  {
   "cell_type": "code",
   "execution_count": 14,
   "metadata": {},
   "outputs": [
    {
     "name": "stdout",
     "output_type": "stream",
     "text": [
      "Number of training examples = 34799\n",
      "Number of validation examples = 4410\n",
      "Number of testing examples = 12630\n",
      "Image data shape = (32, 32, 3)\n",
      "Number of classes = 43\n"
     ]
    }
   ],
   "source": [
    "### Replace each question mark with the appropriate value. \n",
    "### Use python, pandas or numpy methods rather than hard coding the results\n",
    "\n",
    "# TODO: Number of training examples\n",
    "n_train = X_train.shape[0]\n",
    "\n",
    "# TODO: Number of validation examples\n",
    "n_validation = X_valid.shape[0]\n",
    "\n",
    "# TODO: Number of testing examples.\n",
    "n_test = X_test.shape[0]\n",
    "\n",
    "# TODO: What's the shape of an traffic sign image?\n",
    "image_shape = X_train[0].shape\n",
    "\n",
    "# TODO: How many unique classes/labels there are in the dataset.\n",
    "n_classes = len(set(list(y_train) + list(y_valid) + list(y_test)))\n",
    "\n",
    "print(\"Number of training examples =\", n_train)\n",
    "print(\"Number of validation examples =\", n_validation)\n",
    "print(\"Number of testing examples =\", n_test)\n",
    "print(\"Image data shape =\", image_shape)\n",
    "print(\"Number of classes =\", n_classes)"
   ]
  },
  {
   "cell_type": "markdown",
   "metadata": {},
   "source": [
    "### Include an exploratory visualization of the dataset"
   ]
  },
  {
   "cell_type": "markdown",
   "metadata": {},
   "source": [
    "Visualize the German Traffic Signs Dataset using the pickled file(s). This is open ended, suggestions include: plotting traffic sign images, plotting the count of each sign, etc. \n",
    "\n",
    "The [Matplotlib](http://matplotlib.org/) [examples](http://matplotlib.org/examples/index.html) and [gallery](http://matplotlib.org/gallery.html) pages are a great resource for doing visualizations in Python."
   ]
  },
  {
   "cell_type": "markdown",
   "metadata": {},
   "source": [
    "### Show Images"
   ]
  },
  {
   "cell_type": "code",
   "execution_count": 15,
   "metadata": {},
   "outputs": [
    {
     "data": {
      "image/png": "[encoded data removed]",
      "text/plain": [
       "<Figure size 1080x720 with 15 Axes>"
      ]
     },
     "metadata": {},
     "output_type": "display_data"
    }
   ],
   "source": [
    "### Data exploration visualization code goes here.\n",
    "### Feel free to use as many code cells as needed.\n",
    "import random\n",
    "import numpy as np\n",
    "import matplotlib.pyplot as plt\n",
    "# Visualizations will be shown in the notebook.\n",
    "%matplotlib inline\n",
    "\n",
    "\n",
    "def show_images(images, labels, l_to_n, rows = 3, columns = 5, fig_size = (15,10)):\n",
    "    \"\"\"\n",
    "    Visualize a random images.\n",
    "    \"\"\"\n",
    "#     size_fig = fig_size\n",
    "    image_len = len(images)\n",
    "    assert(image_len == len(labels))\n",
    "#     image_width, image_height, _ = images[0].shape\n",
    "    fig, axes = plt.subplots(rows, columns, figsize= fig_size, subplot_kw={'xticks': [], 'yticks': []})\n",
    "   \n",
    "    indexes = list(random.randint(0, image_len) for r in range(columns * rows))\n",
    "    for ax, index in zip(axes.flat, indexes):\n",
    "        ax.imshow(images[index])\n",
    "        label = labels[index]\n",
    "        name = l_to_n[label]\n",
    "        if len(name) > 20:\n",
    "            name = name[:20] + '...'\n",
    "        ax.set_title(\"{0}\\n[{1}]\".format(name, label))\n",
    "#         ax.set_title(\"{0}\\n[{1}][{2}]\".format(name, label, index))\n",
    "show_images(X_train, y_train, labels_to_names, rows = 3, columns = 5)"
   ]
  },
  {
   "cell_type": "markdown",
   "metadata": {},
   "source": [
    "### Draw Labels Histogram"
   ]
  },
  {
   "cell_type": "code",
   "execution_count": 16,
   "metadata": {},
   "outputs": [
    {
     "name": "stderr",
     "output_type": "stream",
     "text": [
      "/home/lenovo/anaconda3/lib/python3.7/site-packages/ipykernel_launcher.py:8: MatplotlibDeprecationWarning: \n",
      "The 'normed' kwarg was deprecated in Matplotlib 2.1 and will be removed in 3.1. Use 'density' instead.\n",
      "  \n"
     ]
    },
    {
     "data": {
      "image/png": "[encoded data removed]",
      "text/plain": [
       "<Figure size 864x288 with 3 Axes>"
      ]
     },
     "metadata": {
      "needs_background": "light"
     },
     "output_type": "display_data"
    }
   ],
   "source": [
    "def histogram(labels, titles, labels_number):\n",
    "    \"\"\"\n",
    "    Plot the histogram of the all the labels.\n",
    "    \"\"\"\n",
    "    n_cols = len(labels)    \n",
    "    fig, axes = plt.subplots(ncols = n_cols, figsize = (12, 4))\n",
    "    for ax, label, title in zip(axes, labels, titles):        \n",
    "        _, bins, patches = ax.hist(label, labels_number, normed = 1)\n",
    "        ax.set_xlabel('No. of labels')\n",
    "        ax.set_ylabel('Counts for labels')\n",
    "        ax.set_title(title)\n",
    "        \n",
    "    fig.tight_layout()\n",
    "    plt.show()\n",
    "    \n",
    "histogram([y_train, y_valid, y_test], ['Train', 'Valid', 'Test'], n_classes)"
   ]
  },
  {
   "cell_type": "markdown",
   "metadata": {},
   "source": [
    "## Data Augmentation"
   ]
  },
  {
   "cell_type": "code",
   "execution_count": 17,
   "metadata": {},
   "outputs": [
    {
     "data": {
      "text/plain": [
       "Text(0.5, 1.0, 'Rotate')"
      ]
     },
     "execution_count": 17,
     "metadata": {},
     "output_type": "execute_result"
    },
    {
     "data": {
      "image/png": "[encoded data removed]",
      "text/plain": [
       "<Figure size 1080x936 with 4 Axes>"
      ]
     },
     "metadata": {
      "needs_background": "light"
     },
     "output_type": "display_data"
    }
   ],
   "source": [
    "# import cv2  \n",
    "\n",
    "def image_process(image, process = 0):\n",
    "    \"\"\"\n",
    "    Applying image processing like scale, transform, and translation.\n",
    "    We need it when the training data is complex and have a few samples.\n",
    "    \"\"\"\n",
    "    # Scale\n",
    "    if process == 1:\n",
    "        fx = 1.5; fy = 1.5\n",
    "        return cv2.resize(image,None,fx=fx, fy=fy, interpolation = cv2.INTER_CUBIC)[0:32, 0:32,:]\n",
    "    # Translation\n",
    "    if process == 0: \n",
    "        X = 5; Y = 5\n",
    "        P = np.float32([[1,0,Y],[0,1,X]])\n",
    "    else:\n",
    "        angle = 45\n",
    "        P = cv2.getRotationMatrix2D((16,16),angle,1)\n",
    "    \n",
    "    return cv2.warpAffine(image,P,(32,32))\n",
    "\n",
    "fig, axes = plt.subplots(ncols = 4, figsize = (15,13))\n",
    "index = random.randint(0, len(X_train))\n",
    "# index = 25\n",
    "axes[0].imshow(X_train[index])\n",
    "axes[0].set_title('Original')\n",
    "axes[1].imshow(image_process(X_train[index], 0))\n",
    "axes[1].set_title('Shift')\n",
    "axes[2].imshow(image_process(X_train[index], 1))\n",
    "axes[2].set_title('Scale')\n",
    "axes[3].imshow(image_process(X_train[index], 2))\n",
    "axes[3].set_title('Rotate')"
   ]
  },
  {
   "cell_type": "markdown",
   "metadata": {},
   "source": [
    "## Train augmented images"
   ]
  },
  {
   "cell_type": "code",
   "execution_count": 18,
   "metadata": {},
   "outputs": [
    {
     "name": "stderr",
     "output_type": "stream",
     "text": [
      "/home/lenovo/anaconda3/lib/python3.7/site-packages/ipykernel_launcher.py:2: VisibleDeprecationWarning: Passing `normed=True` on non-uniform bins has always been broken, and computes neither the probability density function nor the probability mass function. The result is only correct if the bins are uniform, when density=True will produce the same result anyway. The argument will be removed in a future version of numpy.\n",
      "  \n"
     ]
    },
    {
     "name": "stdout",
     "output_type": "stream",
     "text": [
      "Number of images 69651\n"
     ]
    },
    {
     "name": "stderr",
     "output_type": "stream",
     "text": [
      "/home/lenovo/anaconda3/lib/python3.7/site-packages/ipykernel_launcher.py:8: MatplotlibDeprecationWarning: \n",
      "The 'normed' kwarg was deprecated in Matplotlib 2.1 and will be removed in 3.1. Use 'density' instead.\n",
      "  \n"
     ]
    },
    {
     "data": {
      "image/png": "[encoded data removed]",
      "text/plain": [
       "<Figure size 864x288 with 2 Axes>"
      ]
     },
     "metadata": {
      "needs_background": "light"
     },
     "output_type": "display_data"
    }
   ],
   "source": [
    "def gen_images(images, input_labels):\n",
    "    hist, _ = np.histogram(input_labels, 43, normed=True)\n",
    "    select_label = []\n",
    "    for index, value in enumerate(hist):\n",
    "        if value < 0.02:\n",
    "            select_label.append(index)\n",
    "    xtrain = []\n",
    "    ytrain = []\n",
    "    for index, label in enumerate(input_labels):\n",
    "        if label in select_label:\n",
    "            for i in range(0,9):\n",
    "                type = random.randint(0, 3)\n",
    "                ytrain.append(label)\n",
    "                xtrain.append(image_process(images[index], type))\n",
    "    \n",
    "    return (np.array(xtrain), np.array(ytrain))\n",
    "\n",
    "X_train_new, y_train_new = gen_images(X_train, y_train)\n",
    "print('Number of images {}'.format(len(X_train_new)))\n",
    "added = np.concatenate((y_train, y_train_new), axis=0)\n",
    "histogram([y_train, added], ['Trained', 'Augmented'], n_classes)\n",
    "X_train = np.concatenate((X_train, X_train_new), axis=0)\n",
    "y_train = np.concatenate((y_train, y_train_new), axis=0)"
   ]
  },
  {
   "cell_type": "markdown",
   "metadata": {},
   "source": [
    "### ----\n",
    "\n",
    "## Step 2: Design and Test a Model Architecture\n",
    "\n",
    "Design and implement a deep learning model that learns to recognize traffic signs. Train and test your model on the [German Traffic Sign Dataset](http://benchmark.ini.rub.de/?section=gtsrb&subsection=dataset).\n",
    "\n",
    "The LeNet-5 implementation shown in the [classroom](https://classroom.udacity.com/nanodegrees/nd013/parts/fbf77062-5703-404e-b60c-95b78b2f3f9e/modules/6df7ae49-c61c-4bb2-a23e-6527e69209ec/lessons/601ae704-1035-4287-8b11-e2c2716217ad/concepts/d4aca031-508f-4e0b-b493-e7b706120f81) at the end of the CNN lesson is a solid starting point. You'll have to change the number of classes and possibly the preprocessing, but aside from that it's plug and play! \n",
    "\n",
    "With the LeNet-5 solution from the lecture, you should expect a validation set accuracy of about 0.89. To meet specifications, the validation set accuracy will need to be at least 0.93. It is possible to get an even higher accuracy, but 0.93 is the minimum for a successful project submission. \n",
    "\n",
    "There are various aspects to consider when thinking about this problem:\n",
    "\n",
    "- Neural network architecture (is the network over or underfitting?)\n",
    "- Play around preprocessing techniques (normalization, rgb to grayscale, etc)\n",
    "- Number of examples per label (some have more than others).\n",
    "- Generate fake data.\n",
    "\n",
    "Here is an example of a [published baseline model on this problem](http://yann.lecun.com/exdb/publis/pdf/sermanet-ijcnn-11.pdf). It's not required to be familiar with the approach used in the paper but, it's good practice to try to read papers like these."
   ]
  },
  {
   "cell_type": "markdown",
   "metadata": {},
   "source": [
    "## Pre-process the Data Set (normalization, grayscale, etc.)"
   ]
  },
  {
   "cell_type": "markdown",
   "metadata": {},
   "source": [
    "Minimally, the image data should be normalized so that the data has mean zero and equal variance. For image data, `(pixel - 128)/ 128` is a quick way to approximately normalize the data and can be used in this project. \n",
    "\n",
    "Other pre-processing steps are optional. You can try different techniques to see if it improves performance. \n",
    "\n",
    "Use the code cell (or multiple code cells, if necessary) to implement the first step of your project."
   ]
  },
  {
   "cell_type": "code",
   "execution_count": 75,
   "metadata": {},
   "outputs": [],
   "source": [
    "### Preprocess the data here. It is required to normalize the data. Other preprocessing steps could include \n",
    "### converting to grayscale, etc."
   ]
  },
  {
   "cell_type": "markdown",
   "metadata": {},
   "source": [
    "### Normalization"
   ]
  },
  {
   "cell_type": "code",
   "execution_count": 8,
   "metadata": {},
   "outputs": [],
   "source": [
    "# def get_normalize(image):\n",
    "#     output = np.zeros((len(image), 32, 32, 3), np.float64)\n",
    "#     return ((image - np.mean(image))/ np.std(image))\n",
    "\n",
    "# Simple normalization\n",
    "# import numpy as np\n",
    "# a = np.zeros((156816, 36, 53806), dtype='uint8')\n",
    "# a.nbytes\n",
    "\n",
    "# def get_normalize(input):    \n",
    "#     \"\"\"\n",
    "#     Normalize the input images\n",
    "#     \"\"\"\n",
    "#     output = np.zeros((len(input), 32, 32, 3), np.float64)\n",
    "#     for index, image in enumerate(input):\n",
    "#         output[index] = (image.astype(np.float64) - 128)/128\n",
    "#     return output\n",
    "    \n",
    "# X_train_normalized = get_normalize(X_train)\n",
    "# X_valid_normalized = get_normalize(X_valid)\n",
    "# X_test_normalized = get_normalize(X_test)\n",
    "\n",
    "# normalized_images = { \\\n",
    "#                      \"input\"      : X_train_normalized, \"labels\"      : y_train, \\\n",
    "#                      \"valid_input\": X_valid_normalized, \"valid_labels\": y_valid, \\\n",
    "#                      \"test_input\" : X_test_normalized, \"test_labels\"  : y_test\n",
    "#                    }"
   ]
  },
  {
   "cell_type": "markdown",
   "metadata": {},
   "source": [
    "### Grayscale"
   ]
  },
  {
   "cell_type": "code",
   "execution_count": 9,
   "metadata": {},
   "outputs": [],
   "source": [
    "# def get_gray(image):\n",
    "#     return cv2.cvtColor(image, cv2.COLOR_RGB2GRAY)\n",
    "\n",
    "# import numpy as np\n",
    "# from sklearn.utils import shuffle\n",
    "\n",
    "# def to_gray(images):\n",
    "#     output = np.zeros((len(images), 32, 32, 3), np.float64)\n",
    "#     for index, img in enumerate(images):\n",
    "#         g_image = cv2.cvtColor(cv2.cvtColor(img, cv2.COLOR_RGB2GRAY), cv2.COLOR_GRAY2RGB)\n",
    "#         output[index] = (g_image.astype(np.float64) - 128)/128\n",
    "#     return output\n",
    "\n",
    "\n",
    "\n",
    "# X_train, y_train = shuffle(X_train, y_train)\n",
    "# X_train = to_gray(X_train)\n",
    "# X_valid = to_gray(X_valid)\n",
    "# X_test = to_gray(X_test)\n",
    "\n",
    "# plt.imshow(X_train[1])"
   ]
  },
  {
   "cell_type": "markdown",
   "metadata": {},
   "source": [
    "### Equalize histogram"
   ]
  },
  {
   "cell_type": "code",
   "execution_count": 10,
   "metadata": {},
   "outputs": [],
   "source": [
    "# def get_equalize(image):\n",
    "#     return cv2.equalizeHist(image)\n",
    "\n",
    "# def get_equalize(input):\n",
    "#     \"\"\"\n",
    "#     Equalize the input images\n",
    "#     \"\"\"\n",
    "#     output = input.copy()\n",
    "#     for index, image in enumerate(output):\n",
    "#         image_yuv = cv2.cvtColor(image, cv2.COLOR_BGR2YUV)\n",
    "#         image_yuv[:,:,0] = cv2.equalizeHist(image_yuv[:,:,0])\n",
    "#         output[index] = cv2.cvtColor(image_yuv, cv2.COLOR_YUV2BGR)\n",
    "    \n",
    "#     return output\n",
    "\n",
    "# X_train_equalized = get_normalize(get_equalize(X_train))\n",
    "# X_valid_equalized = get_normalize(get_equalize(X_valid))\n",
    "# X_test_equalized   = get_normalize(get_equalize(X_test))\n",
    "\n",
    "# equalized_images = { \\\n",
    "#                      \"input\"      : X_train_equalized, \"labels\"      : y_train, \\\n",
    "#                      \"valid_input\": X_valid_equalized, \"valid_labels\": y_valid, \\\n",
    "#                      \"test_input\" : X_test_equalized, \"test_labels\"  : y_test\n",
    "#                    }"
   ]
  },
  {
   "cell_type": "code",
   "execution_count": 20,
   "metadata": {},
   "outputs": [],
   "source": [
    "# def get_normalize(image):\n",
    "#     output = np.zeros((len(image), 32, 32, 3), np.float64)\n",
    "#     return ((image - np.mean(image))/ np.std(image))\n",
    "\n",
    "# def get_gray(image):\n",
    "#     return cv2.cvtColor(image, cv2.COLOR_RGB2GRAY)\n",
    "\n",
    "# def pre_process(images, labels):\n",
    "#     gray_images = list(map(get_gray, images))\n",
    "# #     eq_imgs = list(map(clahe, gray_imgs))\n",
    "#     normalized_images = list(map(get_normalize, gray_images))\n",
    "#     x_images, x_labels = shuffle(normalized_images, labels)\n",
    "#     return x_images, x_labels\n",
    "\n",
    "def pre_process(images):\n",
    "    output = np.zeros((len(images), 32, 32, 3), np.float64)\n",
    "    for index, img in enumerate(images):\n",
    "        gray = cv2.cvtColor(cv2.cvtColor(img, cv2.COLOR_RGB2GRAY), cv2.COLOR_GRAY2RGB)\n",
    "#         output[index] = (gray.astype(np.float64) - 128) / 128\n",
    "         #To normalize to the [0,1] range you should not use the mean and standard deviation,\n",
    "         #but the maximum and the minimum, \n",
    "        output[index] = np.array((gray - np.min(gray)) / (np.max(gray) - np.min(gray)))\n",
    "    return output"
   ]
  },
  {
   "cell_type": "code",
   "execution_count": null,
   "metadata": {},
   "outputs": [],
   "source": [
    "X_train, y_train = shuffle(X_train, y_train)\n",
    "X_train = pre_process(X_train)\n",
    "X_valid = pre_process(X_valid)\n",
    "X_test = pre_process(X_test)"
   ]
  },
  {
   "cell_type": "code",
   "execution_count": 33,
   "metadata": {},
   "outputs": [
    {
     "data": {
      "text/plain": [
       "<matplotlib.image.AxesImage at 0x7f13b00d2490>"
      ]
     },
     "execution_count": 33,
     "metadata": {},
     "output_type": "execute_result"
    },
    {
     "data": {
      "image/png": "[encoded data removed]",
      "text/plain": [
       "<Figure size 432x288 with 1 Axes>"
      ]
     },
     "metadata": {
      "needs_background": "light"
     },
     "output_type": "display_data"
    }
   ],
   "source": [
    "fig, axes = plt.subplots(ncols = 4, figsize = (15,13))\n",
    "index = random.randint(0, len(X_train))\n",
    "axes[0].imshow(X_train[index + 1])\n",
    "axes[0].set_title(labels_to_names[y_train[index + 1]])\n",
    "axes[1].imshow(X_train[index + 2])\n",
    "axes[1].set_title(labels_to_names[y_train[index + 2]])\n",
    "axes[2].imshow(X_train[index + 3])\n",
    "axes[2].set_title(labels_to_names[y_train[index + 3]])\n",
    "axes[3].imshow(X_train[index + 4])\n",
    "axes[3].set_title(labels_to_names[y_train[index + 4]])"
   ]
  },
  {
   "cell_type": "markdown",
   "metadata": {},
   "source": [
    "### Model Architecture"
   ]
  },
  {
   "cell_type": "code",
   "execution_count": 83,
   "metadata": {},
   "outputs": [],
   "source": [
    "### Define your architecture here.\n",
    "import tensorflow as tf\n",
    "from tensorflow.contrib.layers import flatten\n",
    "from sklearn.utils import shuffle"
   ]
  },
  {
   "cell_type": "markdown",
   "metadata": {},
   "source": [
    "WARNING: The TensorFlow contrib module will not be included in TensorFlow 2.0.\n",
    "For more information, please see:\n",
    "  * https://github.com/tensorflow/community/blob/master/rfcs/20180907-contrib-sunset.md"
   ]
  },
  {
   "cell_type": "code",
   "execution_count": 18,
   "metadata": {},
   "outputs": [],
   "source": [
    "### Train your model here.\n",
    "### Calculate and report the accuracy on the training and validation set.\n",
    "### Once a final model architecture is selected, \n",
    "### the accuracy on the test set should be calculated and reported as well.\n",
    "\n",
    "def LeNet(x, mu = 0, sigma = 0.1, use_dropout = False): \n",
    "    \n",
    "    # Arguments used for tf.truncated_normal, randomly defines variables for the weights and biases for each layer\n",
    "        \n",
    "    # Layer 1: Convolutional. Input = 32x32x3. Output = 28x28x6.  6 => 16\n",
    "    conv1_W = tf.Variable(tf.truncated_normal(shape=(5, 5, 3, 16), mean = mu, stddev = sigma))\n",
    "    conv1_b = tf.Variable(tf.zeros(16))\n",
    "    conv1   = tf.nn.conv2d(x, conv1_W, strides=[1, 1, 1, 1], padding='VALID') + conv1_b\n",
    "    \n",
    "    # Activation.\n",
    "    conv1 = tf.nn.relu(conv1)\n",
    "\n",
    "    # Pooling. Input = 28x28x16. Output = 14x14x16.  6 => 16\n",
    "    conv1 = tf.nn.max_pool(conv1, ksize=[1, 2, 2, 1], strides=[1, 2, 2, 1], padding='VALID')\n",
    "\n",
    "    # Layer 2: Convolutional. Output = 10x10x64.  Input 6 => 16  Output 16 => 64\n",
    "    conv2_W = tf.Variable(tf.truncated_normal(shape=(5, 5, 16, 64), mean = mu, stddev = sigma))\n",
    "    conv2_b = tf.Variable(tf.zeros(64))\n",
    "    conv2   = tf.nn.conv2d(conv1, conv2_W, strides=[1, 1, 1, 1], padding='VALID') + conv2_b\n",
    "    \n",
    "    # Activation.\n",
    "    conv2 = tf.nn.relu(conv2)\n",
    "\n",
    "    # Pooling. Input = 10x10x64. Output = 5x5x64.  16 => 64\n",
    "    conv2 = tf.nn.max_pool(conv2, ksize=[1, 2, 2, 1], strides=[1, 2, 2, 1], padding='VALID')\n",
    "\n",
    "    # Flatten. Input = 5x5x64. Output = 400.  16 => 64    400 => 1600\n",
    "    fc0   = flatten(conv2)\n",
    "    \n",
    "    # Layer 3: Fully Connected. Input = 1600. Output = 120. 400 => 1600  120 => 240\n",
    "    fc1_W = tf.Variable(tf.truncated_normal(shape=(1600, 240), mean = mu, stddev = sigma))\n",
    "    fc1_b = tf.Variable(tf.zeros(240))\n",
    "    fc1   = tf.matmul(fc0, fc1_W) + fc1_b    \n",
    "    \n",
    "    # Activation.\n",
    "    fc1    = tf.nn.relu(fc1)\n",
    "    \n",
    "    # Dropout\n",
    "    fc1 = tf.nn.dropout(fc1, keep_prob)\n",
    "\n",
    "    # Layer 4: Fully Connected. Input = 120. Output = 84.  120 => 240\n",
    "    fc2_W  = tf.Variable(tf.truncated_normal(shape=(240, 84), mean = mu, stddev = sigma))\n",
    "    fc2_b  = tf.Variable(tf.zeros(84))\n",
    "    fc2    = tf.matmul(fc1, fc2_W) + fc2_b\n",
    "    \n",
    "    # Activation.\n",
    "    fc2    = tf.nn.relu(fc2)\n",
    "                        \n",
    "    # Dropout\n",
    "    fc2 = tf.nn.dropout(fc2, keep_prob)\n",
    "\n",
    "    # Layer 5: Fully Connected. Input = 84. Output = 43.\n",
    "    fc3_W  = tf.Variable(tf.truncated_normal(shape=(84, 43), mean = mu, stddev = sigma))\n",
    "    fc3_b  = tf.Variable(tf.zeros(43))\n",
    "    logits = tf.matmul(fc2, fc3_W) + fc3_b\n",
    "    \n",
    "    return (logits, conv1, conv2, fc1, fc2)"
   ]
  },
  {
   "cell_type": "code",
   "execution_count": 19,
   "metadata": {},
   "outputs": [],
   "source": [
    "x = tf.placeholder(tf.float32, (None, 32, 32, 3))\n",
    "y = tf.placeholder(tf.int32, (None))\n",
    "one_hot_y = tf.one_hot(y, n_classes)\n",
    "keep_prob = tf.placeholder(tf.float32)"
   ]
  },
  {
   "cell_type": "markdown",
   "metadata": {},
   "source": [
    "### Train, Validate and Test the Model"
   ]
  },
  {
   "cell_type": "markdown",
   "metadata": {},
   "source": [
    "A validation set can be used to assess how well the model is performing. A low accuracy on the training and validation\n",
    "sets imply underfitting. A high accuracy on the training set but low accuracy on the validation set implies overfitting."
   ]
  },
  {
   "cell_type": "code",
   "execution_count": 20,
   "metadata": {},
   "outputs": [],
   "source": [
    "EPOCHS = 40\n",
    "BATCH_SIZE = 128\n",
    "rate = 1e-3\n",
    "model_location = './traffic_sign_model'\n",
    "trained_flag = True"
   ]
  },
  {
   "cell_type": "code",
   "execution_count": null,
   "metadata": {},
   "outputs": [],
   "source": [
    "logits, conv1, conv2, fc1, fc2 = LeNet(x, use_dropout = False)\n",
    "cross_entropy = tf.nn.softmax_cross_entropy_with_logits(labels=one_hot_y, logits=logits)\n",
    "loss_operation = tf.reduce_mean(cross_entropy)\n",
    "optimizer = tf.train.AdamOptimizer(learning_rate = rate)\n",
    "training_operation = optimizer.minimize(loss_operation)"
   ]
  },
  {
   "cell_type": "code",
   "execution_count": 24,
   "metadata": {},
   "outputs": [],
   "source": [
    "correct_prediction = tf.equal(tf.argmax(logits, 1), tf.argmax(one_hot_y, 1))\n",
    "accuracy_operation = tf.reduce_mean(tf.cast(correct_prediction, tf.float32))\n",
    "saver = tf.train.Saver()\n",
    "\n",
    "def evaluate(X_data, y_data, prob = 0.0):\n",
    "    num_examples = len(X_data)\n",
    "    total_accuracy = 0\n",
    "    sess = tf.get_default_session()\n",
    "    for offset in range(0, num_examples, BATCH_SIZE):\n",
    "        batch_x, batch_y = X_data[offset:offset+BATCH_SIZE], y_data[offset:offset+BATCH_SIZE]\n",
    "        accuracy = sess.run(accuracy_operation, feed_dict={x: batch_x, y: batch_y, keep_prob:prob})\n",
    "        loss = sess.run(loss_operation, feed_dict={x: batch_x, y: batch_y, keep_prob:prob})\n",
    "        total_accuracy += (accuracy * len(batch_x))\n",
    "    return total_accuracy / num_examples, loss"
   ]
  },
  {
   "cell_type": "markdown",
   "metadata": {},
   "source": [
    "## Train the Model\n",
    "Run the training data through the training pipeline to train the model.\n",
    "\n",
    "Before each epoch, shuffle the training set.\n",
    "\n",
    "After each epoch, measure the loss and accuracy of the validation set.\n",
    "\n",
    "Save the model after training."
   ]
  },
  {
   "cell_type": "code",
   "execution_count": null,
   "metadata": {},
   "outputs": [
    {
     "name": "stdout",
     "output_type": "stream",
     "text": [
      "Training...\n"
     ]
    }
   ],
   "source": [
    "# epoch_validation = np.zeros((EPOCHS), dtype = np.float64)\n",
    "test_accuracy = 0.0\n",
    "train_accu_array = []\n",
    "train_loss_array = []\n",
    "valid_accu_array = []\n",
    "valid_loss_array = []\n",
    "loss_train = 0.0\n",
    "accu_train = 0.0\n",
    "if trained_flag:\n",
    "    with tf.Session() as sess:\n",
    "        sess.run(tf.global_variables_initializer())\n",
    "        num_examples = len(X_train)\n",
    "        validation_accuracy = 0.0\n",
    "        print(\"Training...\")\n",
    "        for i in range(EPOCHS):\n",
    "            X_train, y_train = shuffle(X_train, y_train)\n",
    "            for offset in range(0, num_examples, BATCH_SIZE):\n",
    "                end = offset + BATCH_SIZE\n",
    "                batch_x, batch_y = X_train[offset:end], y_train[offset:end]\n",
    "                sess.run(training_operation, feed_dict={x: batch_x, y: batch_y, keep_prob:0.8})\n",
    "                accu_train = sess.run(accuracy_operation, feed_dict={x: batch_x, y: batch_y, keep_prob:0.8})\n",
    "                loss_train = sess.run(loss_operation, feed_dict={x: batch_x, y: batch_y, keep_prob:0.8})\n",
    "                     \n",
    "            validation_accuracy, validation_loss = evaluate(X_valid, y_valid, prob = 1.0)\n",
    "            train_accu_array.append(accu_train)\n",
    "            train_loss_array.append(loss_train)\n",
    "            valid_accu_array.append(validation_accuracy)\n",
    "            valid_loss_array.append(validation_loss)\n",
    "#             epoch_validation[i] = validation_accuracy\n",
    "            print(\"EPOCH {} ...\".format(i+1))\n",
    "            print('Accuracy: Validation: {:.3f}'.format(validation_accuracy))\n",
    "            print()\n",
    "        train_accuracy, _ = evaluate(X_train, y_train, prob = 1.0)\n",
    "        test_accuracy, _ = evaluate(X_test, y_test, prob = 1.0)\n",
    "        print('Training finished')\n",
    "        print('Accuracy: Train: {:.3f}, Validation: {:.3f}, Test: {:.3f}'\\\n",
    "                .format(train_accuracy, validation_accuracy, test_accuracy))\n",
    "        saver.save(sess, model_location)\n",
    "        trained_flag = True\n",
    "        print(\"Model saved\")\n",
    "else:\n",
    "    print('No training configured')"
   ]
  },
  {
   "cell_type": "code",
   "execution_count": null,
   "metadata": {},
   "outputs": [],
   "source": [
    "if trained_flag:\n",
    "#     fig, axes = plt.subplots(figsize=(6, 4))\n",
    "#     axes.plot(range(1, EPOCHS + 1), valid_accu_array)\n",
    "#     axes.set_xlabel('Epochs')\n",
    "#     axes.set_ylabel('Accuracy')\n",
    "#     axes.grid(True)\n",
    "    fig, axes = plt.subplots(ncols = 3, figsize=(20, 6))\n",
    "    axes[0].plot(range(1, EPOCHS + 1), valid_accu_array)\n",
    "    axes[0].set_xlabel('Epochs')\n",
    "    axes[0].set_ylabel('Accuracy')\n",
    "    axes[0].grid(True)\n",
    "    axes[1].plot(train_accu_array, color='red',  label='Train')\n",
    "    axes[1].plot(valid_accu_array, color='blue', label='Valid')\n",
    "    axes[1].set_title('Accuracy')\n",
    "    axes[1].legend(loc='best')\n",
    "    axes[1].grid(True)\n",
    "    axes[2].plot(train_loss_array, color='red',  label='Train')\n",
    "    axes[2].plot(valid_loss_array, color='blue', label='Valid')\n",
    "    axes[2].set_title('Loss')\n",
    "    axes[2].legend(loc='best')\n",
    "    axes[2].grid(True)\n",
    "else:\n",
    "    print('Error: Train not exist')"
   ]
  },
  {
   "cell_type": "markdown",
   "metadata": {},
   "source": [
    "---\n",
    "\n",
    "## Step 3: Test a Model on New Images\n",
    "\n",
    "I downloaded five pictures of German traffic signs from the web and use your model to predict the traffic sign type.\n",
    "\n",
    "`signnames.csv` useful as it contains mappings from the class id (integer) to the actual sign name."
   ]
  },
  {
   "cell_type": "markdown",
   "metadata": {},
   "source": [
    "### Load and Output the Images"
   ]
  },
  {
   "cell_type": "code",
   "execution_count": null,
   "metadata": {
    "collapsed": true
   },
   "outputs": [],
   "source": [
    "### Load the images and plot them here.\n",
    "import numpy as np\n",
    "import cv2\n",
    "import os\n",
    "%matplotlib inline\n",
    "import glob\n",
    "import matplotlib.image as mpimg\n",
    "import matplotlib.pyplot as plt"
   ]
  },
  {
   "cell_type": "code",
   "execution_count": null,
   "metadata": {},
   "outputs": [],
   "source": [
    "images_dir = 'web_images'\n",
    "images_names = glob.glob('web_images/*.jpg')\n",
    "web_images = [ mpimg.imread('./' + image_name ) for image_name in images_names ]"
   ]
  },
  {
   "cell_type": "code",
   "execution_count": null,
   "metadata": {},
   "outputs": [],
   "source": [
    "fig, axes = plt.subplots(ncols=len(web_images), figsize=(16, 8))\n",
    "for ax, image, image_name in zip(axes, web_images, images_names):\n",
    "    ax.imshow(image)\n",
    "    ax.set_title(image_name)"
   ]
  },
  {
   "cell_type": "code",
   "execution_count": null,
   "metadata": {},
   "outputs": [],
   "source": [
    "X_web_images = pre_process(web_images)"
   ]
  },
  {
   "cell_type": "code",
   "execution_count": null,
   "metadata": {},
   "outputs": [],
   "source": [
    "fig, axes = plt.subplots(ncols=len(web_images), figsize=(16, 8))\n",
    "for ax, image, image_name in zip(axes, X_web_images, images_names):\n",
    "    ax.imshow(image)\n",
    "    ax.set_title(image_name)"
   ]
  },
  {
   "cell_type": "markdown",
   "metadata": {},
   "source": [
    "### Predict the Sign Type for Each Image"
   ]
  },
  {
   "cell_type": "code",
   "execution_count": 3,
   "metadata": {
    "collapsed": true
   },
   "outputs": [],
   "source": [
    "### Run the predictions here and use the model to output the prediction for each image.\n",
    "### Make sure to pre-process the images with the same pre-processing pipeline used earlier.\n",
    "with tf.Session() as sess:\n",
    "    saver.restore(sess, model_location)\n",
    "    web_classes = sess.run(logits, feed_dict={x: X_web_images, keep_prob : 1.0})\n",
    "    web_softmax = sess.run(tf.nn.softmax(logits), feed_dict={x: X_web_images, keep_prob : 1.0})"
   ]
  },
  {
   "cell_type": "code",
   "execution_count": null,
   "metadata": {},
   "outputs": [],
   "source": [
    "def plt_show(classes, names):\n",
    "    \n",
    "    num_cols = len(classes)\n",
    "    assert(num_cols == len(names))\n",
    "    \n",
    "    fig, axes = plt.subplots(ncols = num_cols, figsize=(20, 4))\n",
    "    for ax, a_class, title in zip(axes, classes, names):        \n",
    "        ax.bar(range(0,43), a_class)\n",
    "        ax.set_xlabel('histo.')\n",
    "        ax.set_ylabel('count')\n",
    "        ax.set_title(title)\n",
    "        ax.grid(True)\n",
    "        \n",
    "    fig.tight_layout()\n",
    "    plt.show()\n",
    "\n",
    "plt_show(web_classes, images_names)"
   ]
  },
  {
   "cell_type": "code",
   "execution_count": null,
   "metadata": {},
   "outputs": [],
   "source": [
    "with tf.Session() as sess:\n",
    "    pred_images = sess.run(tf.nn.top_k(web_softmax, k = 5, sorted = True))\n",
    "    \n",
    "names_pred = [labels_to_names[pred_images[1][i][0]] for i in range(0, len(images_names))]"
   ]
  },
  {
   "cell_type": "code",
   "execution_count": null,
   "metadata": {},
   "outputs": [],
   "source": [
    "fig, axes = plt.subplots(ncols = len(web_images), figsize = (16, 8))\n",
    "for ax, image, image_name, pred_name in zip(axes, web_images, images_names, names_pred):\n",
    "    indx = pred_images[1][1]\n",
    "    ax.imshow(image)\n",
    "    ax.set_title('{} \\n {}'.format(image_name, pred_name))"
   ]
  },
  {
   "cell_type": "markdown",
   "metadata": {},
   "source": [
    "### Analyze Performance"
   ]
  },
  {
   "cell_type": "markdown",
   "metadata": {
    "collapsed": true
   },
   "source": [
    "#### The model predicted 4 out of 5 signs correctly, 80% accuracy"
   ]
  },
  {
   "cell_type": "markdown",
   "metadata": {},
   "source": [
    "### Output Top 5 Softmax Probabilities For Each Image Found on the Web"
   ]
  },
  {
   "cell_type": "markdown",
   "metadata": {},
   "source": [
    "For each of the new images, print out the model's softmax probabilities to show the **certainty** of the model's predictions (limit the output to the top 5 probabilities for each image). [`tf.nn.top_k`](https://www.tensorflow.org/versions/r0.12/api_docs/python/nn.html#top_k) could prove helpful here. \n",
    "\n",
    "The example below demonstrates how tf.nn.top_k can be used to find the top k predictions for each image.\n",
    "\n",
    "`tf.nn.top_k` will return the values and indices (class ids) of the top k predictions. So if k=3, for each sign, it'll return the 3 largest probabilities (out of a possible 43) and the correspoding class ids.\n",
    "\n",
    "Take this numpy array as an example. The values in the array represent predictions. The array contains softmax probabilities for five candidate images with six possible classes. `tf.nn.top_k` is used to choose the three classes with the highest probability:\n",
    "\n",
    "```\n",
    "# (5, 6) array\n",
    "a = np.array([[ 0.24879643,  0.07032244,  0.12641572,  0.34763842,  0.07893497,\n",
    "         0.12789202],\n",
    "       [ 0.28086119,  0.27569815,  0.08594638,  0.0178669 ,  0.18063401,\n",
    "         0.15899337],\n",
    "       [ 0.26076848,  0.23664738,  0.08020603,  0.07001922,  0.1134371 ,\n",
    "         0.23892179],\n",
    "       [ 0.11943333,  0.29198961,  0.02605103,  0.26234032,  0.1351348 ,\n",
    "         0.16505091],\n",
    "       [ 0.09561176,  0.34396535,  0.0643941 ,  0.16240774,  0.24206137,\n",
    "         0.09155967]])\n",
    "```\n",
    "\n",
    "Running it through `sess.run(tf.nn.top_k(tf.constant(a), k=3))` produces:\n",
    "\n",
    "```\n",
    "TopKV2(values=array([[ 0.34763842,  0.24879643,  0.12789202],\n",
    "       [ 0.28086119,  0.27569815,  0.18063401],\n",
    "       [ 0.26076848,  0.23892179,  0.23664738],\n",
    "       [ 0.29198961,  0.26234032,  0.16505091],\n",
    "       [ 0.34396535,  0.24206137,  0.16240774]]), indices=array([[3, 0, 5],\n",
    "       [0, 1, 4],\n",
    "       [0, 5, 1],\n",
    "       [1, 3, 5],\n",
    "       [1, 4, 3]], dtype=int32))\n",
    "```\n",
    "\n",
    "Looking just at the first row we get `[ 0.34763842,  0.24879643,  0.12789202]`, you can confirm these are the 3 largest probabilities in `a`. You'll also notice `[3, 0, 5]` are the corresponding indices."
   ]
  },
  {
   "cell_type": "code",
   "execution_count": 3,
   "metadata": {
    "collapsed": true
   },
   "outputs": [],
   "source": [
    "### Print out the top five softmax probabilities for the predictions on the German traffic sign images found on the web. \n",
    "\n",
    "for i in range(len(pred_images[0])):\n",
    "    print('Image: ' + images_names[i])\n",
    "    print('Prob.:')\n",
    "    for j in range(0, len(pred_images[0][i])):\n",
    "        prob = pred_images[0][i][j]\n",
    "        indx = pred_images[1][i][j]\n",
    "        name = labels_to_names[indx]\n",
    "        print('   {:.6f} : {} - {}'.format(prob, indx, name))\n",
    "    print()"
   ]
  },
  {
   "cell_type": "markdown",
   "metadata": {},
   "source": [
    "### Project Writeup\n",
    "\n",
    "To document the results in a project writeup use this [template](https://github.com/udacity/CarND-Traffic-Sign-Classifier-Project/blob/master/writeup_template.md) as a guide. The writeup can be in a markdown or pdf file. "
   ]
  },
  {
   "cell_type": "markdown",
   "metadata": {},
   "source": [
    "> To finalize the work, export the iPython Notebook as an HTML document. To do that, use the menu above and navigating to\n",
    "\n",
    "> **File -> Download as -> HTML (.html)**. Include the finished document along with this notebook as your submission."
   ]
  },
  {
   "cell_type": "markdown",
   "metadata": {},
   "source": [
    "---\n",
    "\n",
    "## Step 4 (Optional): Visualize the Neural Network's State with Test Images\n",
    "\n",
    " This Section is not required to complete but acts as an additional excersise for understaning the output of a neural network's weights. While neural networks can be a great learning device they are often referred to as a black box. We can understand what the weights of a neural network look like better by plotting their feature maps. After successfully training your neural network you can see what it's feature maps look like by plotting the output of the network's weight layers in response to a test stimuli image. From these plotted feature maps, it's possible to see what characteristics of an image the network finds interesting. For a sign, maybe the inner network feature maps react with high activation to the sign's boundary outline or to the contrast in the sign's painted symbol.\n",
    "\n",
    " Provided for you below is the function code that allows you to get the visualization output of any tensorflow weight layer you want. The inputs to the function should be a stimuli image, one used during training or a new one you provided, and then the tensorflow variable name that represents the layer's state during the training process, for instance if you wanted to see what the [LeNet lab's](https://classroom.udacity.com/nanodegrees/nd013/parts/fbf77062-5703-404e-b60c-95b78b2f3f9e/modules/6df7ae49-c61c-4bb2-a23e-6527e69209ec/lessons/601ae704-1035-4287-8b11-e2c2716217ad/concepts/d4aca031-508f-4e0b-b493-e7b706120f81) feature maps looked like for it's second convolutional layer you could enter conv2 as the tf_activation variable.\n",
    "\n",
    "For an example of what feature map outputs look like, check out NVIDIA's results in their paper [End-to-End Deep Learning for Self-Driving Cars](https://devblogs.nvidia.com/parallelforall/deep-learning-self-driving-cars/) in the section Visualization of internal CNN State. NVIDIA was able to show that their network's inner weights had high activations to road boundary lines by comparing feature maps from an image with a clear path to one without. Try experimenting with a similar test to show that your trained network's weights are looking for interesting features, whether it's looking at differences in feature maps from images with or without a sign, or even what feature maps look like in a trained network vs a completely untrained one on the same sign image.\n",
    "\n",
    "<figure>\n",
    " <img src=\"visualize_cnn.png\" width=\"380\" alt=\"Combined Image\" />\n",
    " <figcaption>\n",
    " <p></p> \n",
    " <p style=\"text-align: center;\"> Your output should look something like this (above)</p> \n",
    " </figcaption>\n",
    "</figure>\n",
    " <p></p> \n"
   ]
  },
  {
   "cell_type": "code",
   "execution_count": null,
   "metadata": {
    "collapsed": true
   },
   "outputs": [],
   "source": [
    "### Visualize your network's feature maps here.\n",
    "### Feel free to use as many code cells as needed.\n",
    "\n",
    "# image_input: the test image being fed into the network to produce the feature maps\n",
    "# tf_activation: should be a tf variable name used during your training procedure that represents the calculated state of a specific weight layer\n",
    "# activation_min/max: can be used to view the activation contrast in more detail, by default matplot sets min and max to the actual min and max values of the output\n",
    "# plt_num: used to plot out multiple different weight feature map sets on the same block, just extend the plt number for each new feature map entry\n",
    "\n",
    "def outputFeatureMap(image_input, tf_activation, activation_min=-1, activation_max=-1 ,plt_num=1):\n",
    "    # Here make sure to preprocess your image_input in a way your network expects\n",
    "    # with size, normalization, ect if needed\n",
    "    # image_input =\n",
    "    # Note: x should be the same name as your network's tensorflow data placeholder variable\n",
    "    # If you get an error tf_activation is not defined it may be having trouble accessing the variable from inside a function\n",
    "    activation = tf_activation.eval(session=sess,feed_dict={x : image_input})\n",
    "    featuremaps = activation.shape[3]\n",
    "    plt.figure(plt_num, figsize=(15,15))\n",
    "    for featuremap in range(featuremaps):\n",
    "        plt.subplot(6,8, featuremap+1) # sets the number of feature maps to show on each row and column\n",
    "        plt.title('FeatureMap ' + str(featuremap)) # displays the feature map number\n",
    "        if activation_min != -1 & activation_max != -1:\n",
    "            plt.imshow(activation[0,:,:, featuremap], interpolation=\"nearest\", vmin =activation_min, vmax=activation_max, cmap=\"gray\")\n",
    "        elif activation_max != -1:\n",
    "            plt.imshow(activation[0,:,:, featuremap], interpolation=\"nearest\", vmax=activation_max, cmap=\"gray\")\n",
    "        elif activation_min !=-1:\n",
    "            plt.imshow(activation[0,:,:, featuremap], interpolation=\"nearest\", vmin=activation_min, cmap=\"gray\")\n",
    "        else:\n",
    "            plt.imshow(activation[0,:,:, featuremap], interpolation=\"nearest\", cmap=\"gray\")"
   ]
  },
  {
   "cell_type": "code",
   "execution_count": null,
   "metadata": {},
   "outputs": [],
   "source": [
    "with tf.Session() as sess:\n",
    "    saver.restore(sess, model_location)\n",
    "    print(\"First layer: conv1\")\n",
    "    outputFeatureMap(X_web_images, conv1)"
   ]
  },
  {
   "cell_type": "code",
   "execution_count": null,
   "metadata": {},
   "outputs": [],
   "source": [
    "with tf.Session() as sess:\n",
    "    saver.restore(sess, model_location)\n",
    "    web_classes = sess.run(logits, feed_dict={x: X_web_images, keep_prob : 1.0})\n",
    "    print(\"Second layer: conv2\")\n",
    "    outputFeatureMap(X_web_images, conv2)"
   ]
  }
 ],
 "metadata": {
  "anaconda-cloud": {},
  "kernelspec": {
   "display_name": "Python 3",
   "language": "python",
   "name": "python3"
  },
  "language_info": {
   "codemirror_mode": {
    "name": "ipython",
    "version": 3
   },
   "file_extension": ".py",
   "mimetype": "text/x-python",
   "name": "python",
   "nbconvert_exporter": "python",
   "pygments_lexer": "ipython3",
   "version": "3.7.6"
  }
 },
 "nbformat": 4,
 "nbformat_minor": 1
}
